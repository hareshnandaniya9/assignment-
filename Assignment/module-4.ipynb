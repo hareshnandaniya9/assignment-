{
 "cells": [
  {
   "cell_type": "code",
   "execution_count": null,
   "id": "5bd3a050",
   "metadata": {},
   "outputs": [],
   "source": [
    "#---------------------------------------------Module-4-------------------------------------------------------------------------#"
   ]
  },
  {
   "cell_type": "code",
   "execution_count": null,
   "id": "447dd8c7",
   "metadata": {},
   "outputs": [],
   "source": [
    "# What is File function in python? What is keywords to create and write file. "
   ]
  },
  {
   "cell_type": "code",
   "execution_count": null,
   "id": "eeeea21d",
   "metadata": {},
   "outputs": [],
   "source": [
    "# Write a Python program to read an entire text file. "
   ]
  },
  {
   "cell_type": "code",
   "execution_count": null,
   "id": "12f78590",
   "metadata": {},
   "outputs": [],
   "source": [
    "# Write a Python program to append text to a file and display the text. "
   ]
  },
  {
   "cell_type": "code",
   "execution_count": null,
   "id": "4888e621",
   "metadata": {},
   "outputs": [],
   "source": [
    "#Write a Python program to read first n lines of a file. "
   ]
  },
  {
   "cell_type": "code",
   "execution_count": null,
   "id": "21019463",
   "metadata": {},
   "outputs": [],
   "source": [
    "# Write a Python program to read last n lines of a file. "
   ]
  },
  {
   "cell_type": "code",
   "execution_count": null,
   "id": "f25fb5a3",
   "metadata": {},
   "outputs": [],
   "source": [
    "# Write a Python program to read a file line by line and store it into a list "
   ]
  },
  {
   "cell_type": "code",
   "execution_count": null,
   "id": "a615049d",
   "metadata": {},
   "outputs": [],
   "source": [
    "# Write a Python program to read a file line by line store it into a variable"
   ]
  },
  {
   "cell_type": "code",
   "execution_count": null,
   "id": "70333fb2",
   "metadata": {},
   "outputs": [],
   "source": [
    "#Write a python program to find the longest words"
   ]
  },
  {
   "cell_type": "code",
   "execution_count": null,
   "id": "229ab528",
   "metadata": {},
   "outputs": [],
   "source": [
    "#Write a Python program to count the number of lines in a text file. "
   ]
  },
  {
   "cell_type": "code",
   "execution_count": null,
   "id": "32fe8581",
   "metadata": {},
   "outputs": [],
   "source": [
    "# Write a Python program to count the frequency of words in a file. "
   ]
  },
  {
   "cell_type": "code",
   "execution_count": null,
   "id": "cc6607b5",
   "metadata": {},
   "outputs": [],
   "source": [
    "# Write a Python program to write a list to a file. "
   ]
  },
  {
   "cell_type": "code",
   "execution_count": null,
   "id": "48afd12b",
   "metadata": {},
   "outputs": [],
   "source": [
    "#Write a Python program to copy the contents of a file to another file"
   ]
  },
  {
   "cell_type": "code",
   "execution_count": null,
   "id": "d87537bb",
   "metadata": {},
   "outputs": [],
   "source": [
    "# Explain Exception handling? What is an Error in Python? "
   ]
  },
  {
   "cell_type": "code",
   "execution_count": null,
   "id": "d6f9e3b8",
   "metadata": {},
   "outputs": [],
   "source": [
    "# How many except statements can a try-except block have? Name Some built-in exception classes:   "
   ]
  },
  {
   "cell_type": "code",
   "execution_count": null,
   "id": "9999fc0b",
   "metadata": {},
   "outputs": [],
   "source": [
    "# When will the else part of try-except-else be executed? "
   ]
  },
  {
   "cell_type": "code",
   "execution_count": null,
   "id": "3c5198ef",
   "metadata": {},
   "outputs": [],
   "source": [
    "# Can one block of except statements handle multiple exception? "
   ]
  },
  {
   "cell_type": "code",
   "execution_count": null,
   "id": "97b2fcc3",
   "metadata": {},
   "outputs": [],
   "source": [
    "#When is the finally block executed?  "
   ]
  },
  {
   "cell_type": "code",
   "execution_count": null,
   "id": "f9918521",
   "metadata": {},
   "outputs": [],
   "source": [
    "# What happens when „1‟== 1 is executed?   "
   ]
  },
  {
   "cell_type": "code",
   "execution_count": null,
   "id": "85d4669b",
   "metadata": {},
   "outputs": [],
   "source": [
    "# How Do You Handle Exceptions With Try/Except/Finally In Python? Explain with coding snippets."
   ]
  },
  {
   "cell_type": "code",
   "execution_count": null,
   "id": "7fef0383",
   "metadata": {},
   "outputs": [],
   "source": [
    "#Write python program that user to enter only odd numbers, else will raise an exception"
   ]
  },
  {
   "cell_type": "code",
   "execution_count": null,
   "id": "91631374",
   "metadata": {},
   "outputs": [],
   "source": [
    "# What are oops concepts? Is multiple inheritance supported in java "
   ]
  },
  {
   "cell_type": "code",
   "execution_count": null,
   "id": "b69c8805",
   "metadata": {},
   "outputs": [],
   "source": [
    "# How to Define a Class in Python? What Is Self? Give An Example Of A Python Class "
   ]
  },
  {
   "cell_type": "code",
   "execution_count": null,
   "id": "4f226bbc",
   "metadata": {},
   "outputs": [],
   "source": [
    "#Write a Python class named Rectangle constructed by a length and width and a method which will compute the area of a rectangle "
   ]
  },
  {
   "cell_type": "code",
   "execution_count": null,
   "id": "4bddd163",
   "metadata": {},
   "outputs": [],
   "source": [
    "# Write a Python class named Circle constructed by a radius and two methods \n",
    "#which will compute the area and the perimeter of a circle "
   ]
  },
  {
   "cell_type": "code",
   "execution_count": null,
   "id": "08212eae",
   "metadata": {},
   "outputs": [],
   "source": [
    "# Write a Python class named Circle constructed by a radius and two methods which will compute the area and the perimeter of a circle "
   ]
  },
  {
   "cell_type": "code",
   "execution_count": null,
   "id": "a7795632",
   "metadata": {},
   "outputs": [],
   "source": [
    "# Explain Inheritance in Python with an example? What is init? Or What Is A Constructor In Python?  "
   ]
  },
  {
   "cell_type": "code",
   "execution_count": null,
   "id": "6ed9a86d",
   "metadata": {},
   "outputs": [],
   "source": [
    "#What is Instantiation in terms of OOP terminology? "
   ]
  },
  {
   "cell_type": "code",
   "execution_count": null,
   "id": "394d5b8c",
   "metadata": {},
   "outputs": [],
   "source": [
    "# What is used to check whether an object o is an instance of class A?"
   ]
  },
  {
   "cell_type": "code",
   "execution_count": null,
   "id": "e29fd5d8",
   "metadata": {},
   "outputs": [],
   "source": [
    "# What relationship is appropriate for Course and Faculty? "
   ]
  },
  {
   "cell_type": "code",
   "execution_count": null,
   "id": "fec4f15d",
   "metadata": {},
   "outputs": [],
   "source": [
    "#What relationship is appropriate for Student and Person? "
   ]
  }
 ],
 "metadata": {
  "kernelspec": {
   "display_name": "Python 3 (ipykernel)",
   "language": "python",
   "name": "python3"
  },
  "language_info": {
   "codemirror_mode": {
    "name": "ipython",
    "version": 3
   },
   "file_extension": ".py",
   "mimetype": "text/x-python",
   "name": "python",
   "nbconvert_exporter": "python",
   "pygments_lexer": "ipython3",
   "version": "3.9.12"
  }
 },
 "nbformat": 4,
 "nbformat_minor": 5
}
