{
 "cells": [
  {
   "cell_type": "code",
   "execution_count": 5,
   "id": "d54bdbbc",
   "metadata": {},
   "outputs": [
    {
     "name": "stdout",
     "output_type": "stream",
     "text": [
      "Enter Number:5\n",
      "1\n",
      "2\n",
      "3\n",
      "4\n",
      "5\n",
      "120\n"
     ]
    }
   ],
   "source": [
    "#Write a Python program to get the Factorial number of given number\n",
    "num=int(input(\"Enter Number:\"))\n",
    "fact=1\n",
    "for i in range(1,num+1):\n",
    "    fact=fact*i\n",
    "    print(i)\n",
    "print(fact)\n",
    "\n"
   ]
  },
  {
   "cell_type": "code",
   "execution_count": 11,
   "id": "3708b371",
   "metadata": {},
   "outputs": [
    {
     "name": "stdout",
     "output_type": "stream",
     "text": [
      "Enter Number:10\n",
      "131132335740134721"
     ]
    }
   ],
   "source": [
    "#Write a Python program to get the Fibonacci series of given range\n",
    "\n",
    "num=int(input(\"Enter Number:\"))\n"
   ]
  },
  {
   "cell_type": "code",
   "execution_count": null,
   "id": "bbe5cc85",
   "metadata": {},
   "outputs": [],
   "source": [
    "# Write a Python program to find whether a given number is even or odd, print out an appropriate message to the user. \n",
    "num=int(input(\"Enter Number:\"))\n",
    "\n",
    "if num%2=0:\n",
    "    print(f\"this given number {num} is even\")\n",
    "else:\n",
    "    print(f\"this given number {num} is odd\")\n",
    "    \n",
    "\n",
    "\n",
    "\n",
    "\n",
    "\n"
   ]
  }
 ],
 "metadata": {
  "kernelspec": {
   "display_name": "Python 3 (ipykernel)",
   "language": "python",
   "name": "python3"
  },
  "language_info": {
   "codemirror_mode": {
    "name": "ipython",
    "version": 3
   },
   "file_extension": ".py",
   "mimetype": "text/x-python",
   "name": "python",
   "nbconvert_exporter": "python",
   "pygments_lexer": "ipython3",
   "version": "3.9.12"
  }
 },
 "nbformat": 4,
 "nbformat_minor": 5
}
