{
 "cells": [
  {
   "cell_type": "code",
   "execution_count": null,
   "id": "5d3e30bd",
   "metadata": {},
   "outputs": [],
   "source": [
    "#------------------------------------------module-5(DB and Python Framework)---------------------------------------------------#"
   ]
  },
  {
   "cell_type": "code",
   "execution_count": null,
   "id": "03a2eb36",
   "metadata": {},
   "outputs": [],
   "source": [
    "# Why Django should be used for web-development? Explain how you can create a project in Django? \n",
    "\"\"\"\n",
    "1).The Django framework is fast and flexible\n",
    "2).Suits for any web app development.\n",
    "3).Suitable For Any Type of Project\n",
    "4).It's secure and Scalable.\n",
    "5).Contains Support For REST APIs\n",
    "6).The Django apps make use of very less code\n",
    "7).Consistent at low as well as high levels\n",
    "8).SQL statements are not executed too many times and are optimized internally\n",
    "9).Can easily drop into raw SQL whenever required\n",
    "10).Flexibility while using URL’s\n",
    "\n",
    "\"\"\"\n",
    "# Explain how you can create a project in Django\n",
    "\"\"\"\n",
    "To create a Django project, cd into the directory where you would like to create your project and type the following command:\n",
    "\n",
    "django-admin startproject xyz\n",
    "NOTE: Here, xyz is the name of the project. You can give any name that you desire.\n",
    "\"\"\""
   ]
  },
  {
   "cell_type": "code",
   "execution_count": null,
   "id": "b3b93b2b",
   "metadata": {},
   "outputs": [],
   "source": [
    "# How to check installed version of django? \n",
    "\"\"\"\n",
    "After the installation has completed, you can verify your Django installation by executing \n",
    "\n",
    "django-admin --version in the command prompt.\n",
    "\"\"\""
   ]
  },
  {
   "cell_type": "code",
   "execution_count": null,
   "id": "1216ed67",
   "metadata": {},
   "outputs": [],
   "source": [
    "# What is Django URLs?make program to create django urls \n",
    "\n",
    "\n",
    "\"\"\"\n",
    "URLs decide the website routing. \n",
    "We create a python module or a file urls.py in the app. \n",
    "This file decides the navigation of your website. \n",
    "When a user hits a specific URL path in the browser it gets matched with the URLs present in the urls.py file. \n",
    "After that, a corresponding view method is retrieved and then the user gets the response back for the requested URL. \n",
    "\"\"\"\n",
    "#Creating a Django URL Through URL()\n",
    "\"\"\"\n",
    "step:1). Create a Template folder\n",
    "step:2). Tag the Template folder in settings.py file\n",
    "step:3).Place an HTML file inside the Templates folder\n",
    "step:4).Render the html file in views.py using render() method\n",
    "\"\"\"\n"
   ]
  },
  {
   "cell_type": "code",
   "execution_count": null,
   "id": "a642ff68",
   "metadata": {},
   "outputs": [],
   "source": [
    "# What is a QuerySet?\n",
    "\n",
    "'''--> A QuerySet is a collection of data from a database.\n",
    "--  A QuerySet is built up as a list of objects.\n",
    "--  QuerySets makes it easier to get the data we actually need, by allowing us to filter and order the data at an early stage.\n",
    "\n",
    "--> To create new Post object in databse, first we need to create class which we actully want. Here we want User class.\n",
    "-- ex. \n",
    "    class User(models.Model):\n",
    "        username=models.CharField(max_length=120)\n",
    "        password=models.Charfield(max_length=120)\n",
    "    \n",
    "   -  Now we create a New object in a database with 'create' keyword.\n",
    "       User.objects.create(\n",
    "       username='local',\n",
    "       password='local231')\n",
    "    \n",
    "   -  So the new post object is created.'''"
   ]
  },
  {
   "cell_type": "code",
   "execution_count": null,
   "id": "0f302455",
   "metadata": {},
   "outputs": [],
   "source": [
    "# Mention what command line can be used to load data into Django?   \n",
    "\n",
    "'''--> To load data into Django we have to use the command line \"Django-admin.py loaddata\".\n",
    "--- The commandline will searches the data and loads the contents of the named fixtures into the database.'''"
   ]
  },
  {
   "cell_type": "code",
   "execution_count": null,
   "id": "9a6b9d44",
   "metadata": {},
   "outputs": [],
   "source": [
    "# Explain what does django-admin.py make messages command is used for? \n",
    "'''--> This command line executes over the entire source tree of the current directory and abstacts all the strings marked for\n",
    "    translation. it makes a message file in the locale directory.'''"
   ]
  }
 ],
 "metadata": {
  "kernelspec": {
   "display_name": "Python 3 (ipykernel)",
   "language": "python",
   "name": "python3"
  },
  "language_info": {
   "codemirror_mode": {
    "name": "ipython",
    "version": 3
   },
   "file_extension": ".py",
   "mimetype": "text/x-python",
   "name": "python",
   "nbconvert_exporter": "python",
   "pygments_lexer": "ipython3",
   "version": "3.9.12"
  }
 },
 "nbformat": 4,
 "nbformat_minor": 5
}
