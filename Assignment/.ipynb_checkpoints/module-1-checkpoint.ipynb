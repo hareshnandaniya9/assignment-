{
 "cells": [
  {
   "cell_type": "code",
   "execution_count": null,
   "id": "10c8c0a6",
   "metadata": {},
   "outputs": [],
   "source": [
    "#----------------------------------------------module-1------------------------------------------------------------------------#"
   ]
  },
  {
   "cell_type": "code",
   "execution_count": null,
   "id": "651cc5cd",
   "metadata": {},
   "outputs": [],
   "source": [
    "#What is Software?\n",
    "\n",
    "\n",
    "\"\"\"\n",
    ":----> Software is a set of instructions, data, or programs used to operate a computer and execute specific tasks. \n",
    "       In simpler terms, software tells a computer how to function. It’s a generic term used to refer to applications, scripts, and programs \n",
    "       that run on devices such as PCs, mobile phones, tablets, and other smart devices. \n",
    "       Software contrasts with hardware, which is the physical aspects of a computer that perform the work\n",
    "       software, most computers would be useless. \n",
    "       For example, a web browser is a software application that allows users to access the internet.\n",
    "    \"\"\""
   ]
  },
  {
   "cell_type": "code",
   "execution_count": null,
   "id": "f605f062",
   "metadata": {},
   "outputs": [],
   "source": [
    "#What are the types of Applications? \n",
    "\"\"\"\n",
    "1).General Applications\n",
    "     I).Word Processing Software\n",
    "    II).Graphics Software\n",
    "   III).Spreadsheet Software\n",
    "    IV).Presentation Software\n",
    "     V).Web Browsers\n",
    "    VI).Multimedia Software\n",
    "   VII).Education and Reference Software,etc..\n",
    "2).Business Applications\n",
    "    I).Customer Relationship Management Application Software\n",
    "    II).Project Management Application Software\n",
    "    III).Database\n",
    "    IV).Educational Software, etc..\n",
    "3).Application Based on Shareability\n",
    "    I).Freeware\n",
    "    II).Shareware\n",
    "    III).Open source\n",
    "    IV).Closed source\n",
    "\n",
    "\"\"\" "
   ]
  },
  {
   "cell_type": "code",
   "execution_count": null,
   "id": "981d706e",
   "metadata": {},
   "outputs": [],
   "source": [
    "#What is programing? \n",
    "\"\"\"\n",
    ":--> Programming is the process of creating a set of instructions that tell a computer how to perform a task. \n",
    "     Programming can be done using a variety of computer programming languages, \n",
    "     such as JavaScript, Python, and C++.\n",
    "\"\"\" "
   ]
  },
  {
   "cell_type": "code",
   "execution_count": null,
   "id": "18f4e327",
   "metadata": {},
   "outputs": [],
   "source": [
    "#What is Python? \n",
    "\"\"\"\n",
    ":--> python is a general purpose,dynamic,highlevel and interpreted programing language.\n",
    ":--> it sports object oriented programming approach to devlop applications.\n",
    ":-->it is simple and easy to learn and provides lot's of high-level data structure.\n",
    "\"\"\" "
   ]
  }
 ],
 "metadata": {
  "kernelspec": {
   "display_name": "Python 3 (ipykernel)",
   "language": "python",
   "name": "python3"
  },
  "language_info": {
   "codemirror_mode": {
    "name": "ipython",
    "version": 3
   },
   "file_extension": ".py",
   "mimetype": "text/x-python",
   "name": "python",
   "nbconvert_exporter": "python",
   "pygments_lexer": "ipython3",
   "version": "3.9.12"
  }
 },
 "nbformat": 4,
 "nbformat_minor": 5
}
