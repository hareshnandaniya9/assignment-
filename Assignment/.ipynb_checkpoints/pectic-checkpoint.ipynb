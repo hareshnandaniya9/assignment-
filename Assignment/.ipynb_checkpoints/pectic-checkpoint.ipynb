{
 "cells": [
  {
   "cell_type": "code",
   "execution_count": 5,
   "id": "74222247",
   "metadata": {},
   "outputs": [
    {
     "name": "stdout",
     "output_type": "stream",
     "text": [
      "Enter A Number:1\n",
      "1 is positive\n"
     ]
    }
   ],
   "source": [
    "#Write a Python program to check if a number is positive, negative or zero.\n",
    "\n",
    "num=float(input(\"Enter A Number:\"))\n",
    "\n",
    "if num<0:\n",
    "    print(num,\"is negative\")\n",
    "elif num==0:\n",
    "    print(num, \"is Zero\")\n",
    "else:\n",
    "    print(num, \"is positive\")"
   ]
  },
  {
   "cell_type": "code",
   "execution_count": 10,
   "id": "2dbf4481",
   "metadata": {},
   "outputs": [
    {
     "name": "stdout",
     "output_type": "stream",
     "text": [
      "Enter num1:155\n",
      "Enter num2:123\n",
      "num1: 123\n",
      "num2: 155\n"
     ]
    }
   ],
   "source": [
    "#Write python program that swap two number with temp variable and without temp variable\n",
    "\n",
    "num1=int(input(\"Enter num1:\"))\n",
    "num2=int(input(\"Enter num2:\"))\n",
    "\n",
    "temp=num1\n",
    "num1=num2\n",
    "num2=temp\n",
    "print(\"num1:\", num1)\n",
    "print(\"num2:\", num2)\n"
   ]
  },
  {
   "cell_type": "code",
   "execution_count": 11,
   "id": "b37eb540",
   "metadata": {},
   "outputs": [
    {
     "name": "stdout",
     "output_type": "stream",
     "text": [
      "Enter num1:100\n",
      "Enter num2:200\n",
      "num1:200 and num2:100\n"
     ]
    }
   ],
   "source": [
    "#Write python program that swap two number with temp variable and without temp variable\n",
    "num1=int(input(\"Enter num1:\"))\n",
    "num2=int(input(\"Enter num2:\"))\n",
    "\n",
    "\n",
    "num1=num1+num2\n",
    "num2=num1-num2\n",
    "num1=num1-num2\n",
    "\n",
    "print(f\"num1:{num1} and num2:{num2}\")"
   ]
  },
  {
   "cell_type": "code",
   "execution_count": 24,
   "id": "a9b736c4",
   "metadata": {},
   "outputs": [
    {
     "name": "stdout",
     "output_type": "stream",
     "text": [
      "Enetr Later:h\n",
      "this later h is not vowel\n"
     ]
    }
   ],
   "source": [
    "#Write a Python program to test whether a passed letter is a vowel or not. \n",
    "\n",
    "later=input('Enetr Later:')\n",
    "vowel=['a','e','i','o','u']\n",
    "\n",
    "if later in vowel:\n",
    "    \n",
    "    print(f\"this later {later} is vowel\")\n",
    "else:\n",
    "    print(f\"this later {later} is not vowel\")\n",
    "    "
   ]
  },
  {
   "cell_type": "code",
   "execution_count": 33,
   "id": "5ee8bacc",
   "metadata": {},
   "outputs": [
    {
     "name": "stdout",
     "output_type": "stream",
     "text": [
      "Enter Number1:1\n",
      "Enter Number2:2\n",
      "Enter Number3:2\n",
      "5\n"
     ]
    }
   ],
   "source": [
    " #Write a Python program to sum of three given integers. However, if two values are equal sum will be zero. \n",
    "    \n",
    "num1=int(input(\"Enter Number1:\"))\n",
    "num2=int(input(\"Enter Number2:\"))\n",
    "num3=int(input(\"Enter Number3:\"))\n",
    "\n",
    "# temp=num1+num2+num3\n",
    "# print(f\"number1:{num1}+number2:{num2}+number3:{num3} is {temp}\")\n",
    "\n",
    "if num1==num2 or num1==num3:\n",
    "    sum=0\n",
    "    print(sum)\n",
    "elif num2==num3 or num3==num1:\n",
    "    sum=0\n",
    "    print(sum)\n",
    "    \n",
    "else:\n",
    "    sum=num1+num2+num3\n",
    "    print(sum)\n",
    "    \n"
   ]
  },
  {
   "cell_type": "code",
   "execution_count": 36,
   "id": "e3e23c26",
   "metadata": {},
   "outputs": [
    {
     "name": "stdout",
     "output_type": "stream",
     "text": [
      "Enter Number:5\n",
      "Enter Number:5\n",
      "true\n"
     ]
    }
   ],
   "source": [
    "# Write a Python program that will return true if the two given integer values are equal or their sum or difference is 5.\n",
    "\n",
    "num1=int(input(\"Enter Number:\"))\n",
    "num2=int(input(\"Enter Number:\"))\n",
    "\n",
    "if (num1==num2) or (num1+num2==5) or (num1-num2==5):\n",
    "   \n",
    "    print(\"true\")\n",
    "    \n",
    "else:\n",
    "    print(\"false\")"
   ]
  },
  {
   "cell_type": "code",
   "execution_count": 37,
   "id": "59cde384",
   "metadata": {},
   "outputs": [
    {
     "name": "stdout",
     "output_type": "stream",
     "text": [
      "15\n"
     ]
    }
   ],
   "source": [
    " #Write a Python program to calculate the length of a string\n",
    "str1=\"hareshnandaniya\"\n",
    "print(len(str1))"
   ]
  },
  {
   "cell_type": "code",
   "execution_count": null,
   "id": "7cf2ad20",
   "metadata": {},
   "outputs": [],
   "source": [
    "#Write a python program to sum of the first n positive integers\n",
    "\n",
    "\n"
   ]
  },
  {
   "cell_type": "code",
   "execution_count": 47,
   "id": "a61192e8",
   "metadata": {},
   "outputs": [
    {
     "name": "stdout",
     "output_type": "stream",
     "text": [
      "{'h': 2, 'a': 4, 'r': 1, 'e': 1, 's': 1, 'n': 3, 'd': 1, 'i': 1, 'y': 1}\n"
     ]
    }
   ],
   "source": [
    " #Write a Python program to count the number of characters (character frequency) in a string \n",
    "\n",
    "str1=\"hareshnandaniya\"\n",
    "dict1={}\n",
    "for i in str1:\n",
    "    keys=dict1.keys()\n",
    "    if i in keys:\n",
    "        dict1[i]+=1\n",
    "        print(keys)\n",
    "    else:\n",
    "        dict1[i]=1\n",
    "    \n",
    "print(dict1)"
   ]
  },
  {
   "cell_type": "code",
   "execution_count": null,
   "id": "d138bb37",
   "metadata": {},
   "outputs": [],
   "source": []
  },
  {
   "cell_type": "code",
   "execution_count": null,
   "id": "3e56d011",
   "metadata": {},
   "outputs": [],
   "source": []
  }
 ],
 "metadata": {
  "kernelspec": {
   "display_name": "Python 3 (ipykernel)",
   "language": "python",
   "name": "python3"
  },
  "language_info": {
   "codemirror_mode": {
    "name": "ipython",
    "version": 3
   },
   "file_extension": ".py",
   "mimetype": "text/x-python",
   "name": "python",
   "nbconvert_exporter": "python",
   "pygments_lexer": "ipython3",
   "version": "3.9.12"
  }
 },
 "nbformat": 4,
 "nbformat_minor": 5
}
