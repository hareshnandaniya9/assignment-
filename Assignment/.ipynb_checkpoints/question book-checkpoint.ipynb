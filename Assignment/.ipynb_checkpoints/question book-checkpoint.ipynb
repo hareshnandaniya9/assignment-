{
 "cells": [
  {
   "cell_type": "code",
   "execution_count": null,
   "id": "1a42cb09",
   "metadata": {},
   "outputs": [],
   "source": [
    "#Write a Python program to check if a number is positive, negative or zero.\n"
   ]
  },
  {
   "cell_type": "code",
   "execution_count": null,
   "id": "badc773e",
   "metadata": {},
   "outputs": [],
   "source": [
    "#Write a Python program to get the Factorial number of given number\n"
   ]
  },
  {
   "cell_type": "code",
   "execution_count": null,
   "id": "8e846169",
   "metadata": {},
   "outputs": [],
   "source": [
    "#Write a Python program to get the Fibonacci series of given range\n"
   ]
  },
  {
   "cell_type": "code",
   "execution_count": null,
   "id": "1506e666",
   "metadata": {},
   "outputs": [],
   "source": [
    "#Write python program that swap two number with temp variable and without temp variable\n",
    "    "
   ]
  },
  {
   "cell_type": "code",
   "execution_count": null,
   "id": "b5308da3",
   "metadata": {},
   "outputs": [],
   "source": [
    "# Write a Python program to find whether a given number is even or odd, print out an appropriate message to the user. \n"
   ]
  },
  {
   "cell_type": "code",
   "execution_count": null,
   "id": "fc90d4c0",
   "metadata": {},
   "outputs": [],
   "source": [
    "#Write a Python program to test whether a passed letter is a vowel or not. \n"
   ]
  },
  {
   "cell_type": "code",
   "execution_count": null,
   "id": "bf4e7dbf",
   "metadata": {},
   "outputs": [],
   "source": [
    " #Write a Python program to sum of three given integers. However, if two values are equal sum will be zero. \n"
   ]
  },
  {
   "cell_type": "code",
   "execution_count": null,
   "id": "0d44d7a5",
   "metadata": {},
   "outputs": [],
   "source": [
    "# Write a Python program that will return true if the two given integer values are equal or their sum or difference is 5.\n"
   ]
  },
  {
   "cell_type": "code",
   "execution_count": null,
   "id": "c8caa0c1",
   "metadata": {},
   "outputs": [],
   "source": [
    "#Write a python program to sum of the first n positive integers\n"
   ]
  },
  {
   "cell_type": "code",
   "execution_count": null,
   "id": "ab3cc130",
   "metadata": {},
   "outputs": [],
   "source": [
    " #Write a Python program to calculate the length of a string\n"
   ]
  },
  {
   "cell_type": "code",
   "execution_count": null,
   "id": "a27ae9b5",
   "metadata": {},
   "outputs": [],
   "source": [
    " #Write a Python program to count the number of characters (character frequency) in a string \n"
   ]
  },
  {
   "cell_type": "code",
   "execution_count": null,
   "id": "b8cc4692",
   "metadata": {},
   "outputs": [],
   "source": [
    "# Write a Python program to count occurrences of a substring in a string. \n"
   ]
  },
  {
   "cell_type": "code",
   "execution_count": null,
   "id": "9c2780bf",
   "metadata": {},
   "outputs": [],
   "source": [
    " #Write a Python program to count the occurrences of each word in a given sentence \n"
   ]
  },
  {
   "cell_type": "code",
   "execution_count": null,
   "id": "5935e64a",
   "metadata": {},
   "outputs": [],
   "source": [
    "#Write a Python program to get a single string from two given strings, separated by a space and \n",
    "#swap the first two characters of each string."
   ]
  },
  {
   "cell_type": "code",
   "execution_count": null,
   "id": "155c815c",
   "metadata": {},
   "outputs": [],
   "source": [
    "''' Write a Python program to add 'ing' at the end of a given string (length should be at least 3). \n",
    "If the given string already ends with 'ing' then add 'ly' instead if the string length of \n",
    "the given string is less than 3, leave it unchanged. '''"
   ]
  },
  {
   "cell_type": "code",
   "execution_count": null,
   "id": "d1f3b228",
   "metadata": {},
   "outputs": [],
   "source": [
    "'''Write a Python program to find the first appearance of the substring 'not' and 'poor' from a given string, \n",
    "     if 'not' follows the 'poor', replace the whole 'not'...'poor' substring  with 'good'. Return the resulting string'''\n"
   ]
  },
  {
   "cell_type": "code",
   "execution_count": null,
   "id": "e186b4c3",
   "metadata": {},
   "outputs": [],
   "source": [
    "#Write a Python function that takes a list of words and returns the length of the longest one\n"
   ]
  },
  {
   "cell_type": "code",
   "execution_count": null,
   "id": "d9ee34c4",
   "metadata": {},
   "outputs": [],
   "source": [
    " #Write a Python function to reverses a string if its length is a multiple of 4.  \n"
   ]
  },
  {
   "cell_type": "code",
   "execution_count": null,
   "id": "69f899c9",
   "metadata": {},
   "outputs": [],
   "source": [
    "''' Write a Python program to get a string made of the first 2 and the last 2 chars from a given a string. \n",
    "         If the string length is less than 2, return instead of the empty string'''\n"
   ]
  },
  {
   "cell_type": "code",
   "execution_count": null,
   "id": "04ef1362",
   "metadata": {},
   "outputs": [],
   "source": [
    "#Write a Python function to insert a string in the middle of a string\n"
   ]
  },
  {
   "cell_type": "code",
   "execution_count": null,
   "id": "59a4af64",
   "metadata": {},
   "outputs": [],
   "source": [
    "#armstong number\n"
   ]
  }
 ],
 "metadata": {
  "kernelspec": {
   "display_name": "Python 3 (ipykernel)",
   "language": "python",
   "name": "python3"
  },
  "language_info": {
   "codemirror_mode": {
    "name": "ipython",
    "version": 3
   },
   "file_extension": ".py",
   "mimetype": "text/x-python",
   "name": "python",
   "nbconvert_exporter": "python",
   "pygments_lexer": "ipython3",
   "version": "3.9.12"
  }
 },
 "nbformat": 4,
 "nbformat_minor": 5
}
