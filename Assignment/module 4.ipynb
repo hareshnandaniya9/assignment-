{
 "cells": [
  {
   "cell_type": "code",
   "execution_count": null,
   "id": "3d2cbdff",
   "metadata": {},
   "outputs": [],
   "source": [
    "#-----------------------------------------module-4(Advance python programming)-------------------------------------------------#"
   ]
  },
  {
   "cell_type": "code",
   "execution_count": null,
   "id": "6468c81e",
   "metadata": {},
   "outputs": [],
   "source": [
    "# What is File function in python? What is keywords to create and write file.\n",
    "\n",
    "''' For file handling with python to read and write file we can used file function.\n",
    " We can create and write file by 'open' function with 'x','w' or 'a' mode.'''"
   ]
  },
  {
   "cell_type": "code",
   "execution_count": null,
   "id": "ea01afe4",
   "metadata": {},
   "outputs": [],
   "source": [
    "# Write a Python program to read an entire text file. \n",
    "\n",
    "obj=open('abc.txt','r')\n",
    "print(obj.read())"
   ]
  },
  {
   "cell_type": "code",
   "execution_count": null,
   "id": "556f09f0",
   "metadata": {},
   "outputs": [],
   "source": [
    "# Write a Python program to append text to a file and display the text. \n",
    "\n",
    "obj=open('abc.txt','a+')\n",
    "obj.write('Python is widly used to web developing.')\n",
    "obj.seek(0)\n",
    "print(obj.read())"
   ]
  },
  {
   "cell_type": "code",
   "execution_count": null,
   "id": "f374d3e8",
   "metadata": {},
   "outputs": [],
   "source": [
    "# Write a Python program to read first n lines of a file.\n",
    "\n",
    "obj=open('abc.txt','r')\n",
    "line=int(input('Enter how many lines you want to read :'))\n",
    "current_line=0\n",
    "for first in obj:\n",
    "    if current_line!=line:\n",
    "        print(first,end='')\n",
    "    else:\n",
    "        break\n",
    "    current_line+=1"
   ]
  },
  {
   "cell_type": "code",
   "execution_count": null,
   "id": "73a96b7f",
   "metadata": {},
   "outputs": [],
   "source": [
    "# Write a Python program to read last n lines of a file.\n",
    "\n",
    "line=int(input('Enter line number where from you want to read :'))\n",
    "obj=open('abc.txt','r')\n",
    "w=obj.readlines()\n",
    "for last in range(len(w)):\n",
    "    print(w[-line],end='')\n",
    "    if line==1:\n",
    "        break\n",
    "    else:\n",
    "        line-=1"
   ]
  },
  {
   "cell_type": "code",
   "execution_count": null,
   "id": "986f0ce1",
   "metadata": {},
   "outputs": [],
   "source": [
    "# Write a Python program to read a file line by line and store it into a list.\n",
    "\n",
    "lst=[]\n",
    "obj=open('abc.txt','r')\n",
    "for line in obj:\n",
    "    print(line,end='')\n",
    "    lst.append(line)\n",
    "print()\n",
    "print(len(lst),lst)"
   ]
  },
  {
   "cell_type": "code",
   "execution_count": null,
   "id": "8646b3f0",
   "metadata": {},
   "outputs": [],
   "source": [
    "# Write a Python program to read a file line by line store it into a variable.\n",
    "\n",
    "obj=open('abc.txt','r')\n",
    "a=obj.readlines()\n",
    "list=['a','b','c','d','e','f','g','h']\n",
    "for w in list:\n",
    "    try:\n",
    "        w=a[list.index(w)]\n",
    "        print(w)\n",
    "    except:\n",
    "        break"
   ]
  },
  {
   "cell_type": "code",
   "execution_count": null,
   "id": "a847993c",
   "metadata": {},
   "outputs": [],
   "source": [
    "# Write a python program to find the longest words.\n",
    "'''\n",
    "# input text file\n",
    "inputFile = \"ExampleTextFile.txt\"\n",
    "\n",
    "# Opening the given file in read-only mode.\n",
    "with open(inputFile, 'r') as filedata:\n",
    "\n",
    "# Getting the list of words of a file\n",
    "wordsList = filedata.read().split()\n",
    "\n",
    "# finding the length of the longest word in the above words list\n",
    "longestWordLength = len(max(wordsList, key=len))\n",
    "\n",
    "# Storing all the words having the maximum length(longest word length)\n",
    "\n",
    "# Here, we are checking all the words whose length is equal to that of the longest word\n",
    "result = [textword for textword in wordsList if len(textword) == longestWordLength]\n",
    "\n",
    "# Print the longest words from a text file\n",
    "print(\"The following are the longest words from a text file:\")\n",
    "print(result)\n",
    "\n",
    "# Closing the input file\n",
    "filedata.close()\n",
    "'''"
   ]
  },
  {
   "cell_type": "code",
   "execution_count": null,
   "id": "fd4e6428",
   "metadata": {},
   "outputs": [],
   "source": [
    "# Write a Python program to count the number of lines in a text file.\n",
    "\n",
    "obj=open('abc.txt','r')\n",
    "lines=obj.readlines()\n",
    "print(len(lines))"
   ]
  },
  {
   "cell_type": "code",
   "execution_count": null,
   "id": "50a11615",
   "metadata": {},
   "outputs": [],
   "source": [
    "# Write a Python program to count the frequency of words in a file.\n",
    "'''\n",
    "#Read file name and count how many times each word appears using \"in\"\n",
    "\n",
    "fname = input('Enter the file name: ')\n",
    "try:\n",
    "    fhand = open(fname)\n",
    "    counts = dict()\n",
    "    for line in fhand:\n",
    "        words = line.split()\n",
    "        for word in words:\n",
    "            if word in counts:\n",
    "                counts[word] += 1\n",
    "            else:\n",
    "                counts[word] = 1\n",
    "    print(counts)\n",
    "except:\n",
    "    print('File cannot be opened:', fname)\n",
    "'''\n",
    "'''\n",
    "#Read file name and count how many times each word appears using \"get\"\n",
    "\n",
    "fname = input('Enter the file name: ')\n",
    "try:\n",
    "    fhand = open(fname)\n",
    "    counts = dict()\n",
    "    for line in fhand:\n",
    "        words = line.split()\n",
    "        for word in words:\n",
    "            counts[word] = counts.get(word, 0) + 1\n",
    "    print(counts)\n",
    "except:\n",
    "    print('File cannot be opened:', fname)\n",
    "'''"
   ]
  },
  {
   "cell_type": "code",
   "execution_count": null,
   "id": "2d33082c",
   "metadata": {},
   "outputs": [],
   "source": [
    "# Write a Python program to write a list to a file.\n",
    "\n",
    "lst=['python','java','laravel','php','css','html']\n",
    "\n",
    "obj=open('language.txt','w+')\n",
    "for a in lst:\n",
    "    obj.write(\"%s\\n\" % a)\n",
    "obj.seek(0)\n",
    "print(obj.read())"
   ]
  },
  {
   "cell_type": "code",
   "execution_count": null,
   "id": "3db1644d",
   "metadata": {},
   "outputs": [],
   "source": [
    "# Write a Python program to copy the contents of a file to another file.\n",
    "\n",
    "obj1=open('abc.txt','r+')\n",
    "copy=obj1.read()\n",
    "obj2=open('xyz.txt','w+')\n",
    "obj2.write(copy)\n",
    "obj2.seek(0)\n",
    "print(obj2.read())"
   ]
  },
  {
   "cell_type": "code",
   "execution_count": null,
   "id": "71ea2bc6",
   "metadata": {},
   "outputs": [],
   "source": [
    "# Explain Exception handling? What is an Error in Python?\n",
    "'''\n",
    "--> Error that occur at runtime (after passing the syntax test) are called exceptions.\n",
    "     An Exception is an error that happens during the execution of a program. Whenever there is an error, python generates an\n",
    "--> exception that could be handled.\n",
    "--> This exception can be handle by 'try' statement.\n",
    "\n",
    "--> Error : Errors are the problems in program due to which the program will stop the execution.\n",
    "--> When the interpreter identifies a statement that has error, syntex error occur.'''"
   ]
  },
  {
   "cell_type": "code",
   "execution_count": null,
   "id": "3f781ab2",
   "metadata": {},
   "outputs": [],
   "source": [
    "# How many except statements can a try-except block have? Name Some built-in exception classes:\n",
    "'''\n",
    "--> There are infinite except statements can a try-except block have with programmer raised new exception.\n",
    "--> some built-in exceptions are NameError, ValueError, ZeroDivisionError, KeyError, IOError etc.'''"
   ]
  },
  {
   "cell_type": "code",
   "execution_count": null,
   "id": "ee6812ab",
   "metadata": {},
   "outputs": [],
   "source": [
    "# When will the else part of try-except-else be executed?\n",
    "'''\n",
    "--> Else block will be executed when the try block execute successfully. In other words when no one exception is execute,\n",
    "    then else part will be executed.'''"
   ]
  },
  {
   "cell_type": "code",
   "execution_count": null,
   "id": "845a41d2",
   "metadata": {},
   "outputs": [],
   "source": [
    "# Can one block of except statements handle multiple exception?\n",
    "\n",
    "# yes, One block of except statement can handle multipal exception.\n",
    "\n",
    "try:\n",
    "    a=1\n",
    "    b=0\n",
    "    print(a/b)\n",
    "except (ValueError,KeyError,ZeroDivisionError,NameError):\n",
    "    print('There are Error in try block')"
   ]
  },
  {
   "cell_type": "code",
   "execution_count": null,
   "id": "1c0f2e63",
   "metadata": {},
   "outputs": [],
   "source": [
    "# When is the finally block executed?\n",
    "\n",
    "'''--> The finally block, if specified, will be executed regardless if the try block raised an error or not.'''"
   ]
  },
  {
   "cell_type": "code",
   "execution_count": null,
   "id": "510f7892",
   "metadata": {},
   "outputs": [],
   "source": [
    "# What happens when \"1\"== 1 is executed?\n",
    "\n",
    "'''--> it return False. Because \"1\" is as a string and 1 is integer type.'''"
   ]
  },
  {
   "cell_type": "code",
   "execution_count": null,
   "id": "f346113e",
   "metadata": {},
   "outputs": [],
   "source": [
    "# How Do You Handle Exceptions With Try/Except/Finally In Python? Explain with coding snippets.\n",
    "\n",
    "try:\n",
    "    a=float(input('Enter any number :'))\n",
    "    b=float(input('Enter any number :'))\n",
    "    c=a/b\n",
    "    print(f'a divided by b is {c}')\n",
    "except Exception as ex:\n",
    "    print(ex)\n",
    "finally:\n",
    "    print('Try Once again...')"
   ]
  },
  {
   "cell_type": "code",
   "execution_count": null,
   "id": "4bac9851",
   "metadata": {},
   "outputs": [],
   "source": [
    "# Write python program that user to enter only odd numbers, else will raise an exception.\n",
    "\n",
    "try:\n",
    "    a=int(input('Enter Odd number :'))\n",
    "    if a%2!=0:\n",
    "        print(f'{a} is odd number')\n",
    "    else:\n",
    "        raise ValueError(f'{a} is Even number. Enter only Odd number.')\n",
    "except ValueError as val:\n",
    "    print(val)"
   ]
  },
  {
   "cell_type": "code",
   "execution_count": null,
   "id": "96e42629",
   "metadata": {},
   "outputs": [],
   "source": [
    "# What are oops concepts? Is multiple inheritance supported in java?\n",
    "'''\n",
    "--> object-oriented Programming (OOPs) is a programming paradigm that uses objects and classes in programming.\n",
    "--> It aims to implement real-world entities like inheritance, polymorphisms, encapsulation, etc. in the programming.\n",
    "--> Multiple Inheritance is the process in which a subclass inherits more than one superclass.\n",
    "--> Java does not support Multiple Inheritance'''"
   ]
  },
  {
   "cell_type": "code",
   "execution_count": null,
   "id": "40584d0a",
   "metadata": {},
   "outputs": [],
   "source": [
    "# How to Define a Class in Python? What Is Self? Give An Example Of A Python Class.\n",
    "\n",
    "#  Class is define with a 'class' keyword.\n",
    "#  Class have contain like variable, function.\n",
    "\n",
    "class family:\n",
    "    def __init__(self,cname):\n",
    "        self.child_name=cname\n",
    "        print(f'Child name is {self.child_name}.')\n",
    "\n",
    "child=family('Kevin')"
   ]
  },
  {
   "cell_type": "code",
   "execution_count": null,
   "id": "ef73933e",
   "metadata": {},
   "outputs": [],
   "source": [
    "# Write a Python class named Rectangle constructed by a length and width and a method which will compute the area of rectangle.\n",
    "\n",
    "class Rectangle:\n",
    "    def __init__(self,length,width):\n",
    "        self.length=length\n",
    "        self.width=width\n",
    "    def rarea(self):\n",
    "        area=(self.width * self.length)\n",
    "        print(f'Area of Rectangle which length is {self.length} and width is {self.width} : {area} m2.')\n",
    "\n",
    "area=Rectangle(5,6)\n",
    "area.rarea()"
   ]
  },
  {
   "cell_type": "code",
   "execution_count": null,
   "id": "1be4db22",
   "metadata": {},
   "outputs": [],
   "source": [
    "# Write a Python class named Circle constructed by a radius and two methods which will compute the area and the perimeter \n",
    "# of a circle.\n",
    "\n",
    "class Circle:\n",
    "    def __init__(self,radius):\n",
    "        self.radius=radius\n",
    "    def area(self):\n",
    "        print(f'Area of circle is {3.14*self.radius**2} m2')\n",
    "    def perimeter(self):\n",
    "        print(f'Perimeter of circle is {round(2*3.14*self.radius,4)} m')\n",
    "\n",
    "cir=Circle(6)\n",
    "cir.area()\n",
    "cir.perimeter()"
   ]
  },
  {
   "cell_type": "code",
   "execution_count": null,
   "id": "33a96a2c",
   "metadata": {},
   "outputs": [],
   "source": [
    "# Explain Inheritance in Python with an example? What is init? Or What Is A Constructor In Python?\n",
    "\n",
    "'''--> One of the core concepts in object-oriented programming (OOP) languages is inheritance. \n",
    "--> It is a mechanism that allows you to create a hierarchy of classes that share a set of properties and methods by \n",
    "    deriving a class from another class'''.\n",
    "    \n",
    " "
   ]
  },
  {
   "cell_type": "code",
   "execution_count": null,
   "id": "52c6deec",
   "metadata": {},
   "outputs": [],
   "source": [
    "# What is Instantiation in terms of OOP terminology?\n",
    "\n",
    "# --> Creating an instance of class"
   ]
  },
  {
   "cell_type": "code",
   "execution_count": null,
   "id": "44c41943",
   "metadata": {},
   "outputs": [],
   "source": [
    "# What is used to check whether an object o is an instance of class A?\n",
    "'''\n",
    "Using isinstance() function, we can test whether an object/variable is an instance of the specified type or class,\n",
    "such as int or list. In the case of inheritance, we can checks if the specified class is the parent class of an object\n",
    "'''"
   ]
  },
  {
   "cell_type": "code",
   "execution_count": null,
   "id": "dceb501b",
   "metadata": {},
   "outputs": [],
   "source": [
    "# What relationship is appropriate for Course and Faculty?\n",
    "\n",
    "#ans:-> association"
   ]
  },
  {
   "cell_type": "code",
   "execution_count": null,
   "id": "0271551a",
   "metadata": {},
   "outputs": [],
   "source": [
    "# What relationship is appropriate for Student and Person? \n",
    "\n",
    "#ans:-> inheritance"
   ]
  }
 ],
 "metadata": {
  "kernelspec": {
   "display_name": "Python 3 (ipykernel)",
   "language": "python",
   "name": "python3"
  },
  "language_info": {
   "codemirror_mode": {
    "name": "ipython",
    "version": 3
   },
   "file_extension": ".py",
   "mimetype": "text/x-python",
   "name": "python",
   "nbconvert_exporter": "python",
   "pygments_lexer": "ipython3",
   "version": "3.9.12"
  }
 },
 "nbformat": 4,
 "nbformat_minor": 5
}
