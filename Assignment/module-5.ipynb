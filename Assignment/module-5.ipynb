{
 "cells": [
  {
   "cell_type": "code",
   "execution_count": null,
   "id": "5d3e30bd",
   "metadata": {},
   "outputs": [],
   "source": [
    "#---------------------------------------------------module-5-------------------------------------------------------------------#"
   ]
  },
  {
   "cell_type": "code",
   "execution_count": null,
   "id": "03a2eb36",
   "metadata": {},
   "outputs": [],
   "source": [
    "# Why Django should be used for web-development? Explain how you can create a project in Django? "
   ]
  },
  {
   "cell_type": "code",
   "execution_count": null,
   "id": "b3b93b2b",
   "metadata": {},
   "outputs": [],
   "source": [
    "# How to check installed version of django? "
   ]
  },
  {
   "cell_type": "code",
   "execution_count": null,
   "id": "8a82970a",
   "metadata": {},
   "outputs": [],
   "source": [
    "# Explain what does django-admin.py make messages command is used for? "
   ]
  },
  {
   "cell_type": "code",
   "execution_count": null,
   "id": "1216ed67",
   "metadata": {},
   "outputs": [],
   "source": [
    "# What is Django URLs?make program to create django urls "
   ]
  },
  {
   "cell_type": "code",
   "execution_count": null,
   "id": "a642ff68",
   "metadata": {},
   "outputs": [],
   "source": [
    "# What is a QuerySet?Write program to create a new Post object in database"
   ]
  },
  {
   "cell_type": "code",
   "execution_count": null,
   "id": "0f302455",
   "metadata": {},
   "outputs": [],
   "source": [
    "# Mention what command line can be used to load data into Django?   "
   ]
  },
  {
   "cell_type": "code",
   "execution_count": null,
   "id": "9a6b9d44",
   "metadata": {},
   "outputs": [],
   "source": [
    "# Explain what does django-admin.py make messages command is used for? "
   ]
  },
  {
   "cell_type": "code",
   "execution_count": null,
   "id": "99394058",
   "metadata": {},
   "outputs": [],
   "source": [
    "# Make Django application to demonstrate following things o There will be 2 modules(Admin,Product manager) o Admin can add product name (ex.Product id and product name) ex. (1, Samsung), (2, Apple)...etc. Data should store in "
   ]
  },
  {
   "cell_type": "code",
   "execution_count": null,
   "id": "25671e62",
   "metadata": {},
   "outputs": [],
   "source": [
    "# Product_mst table with product id as primary key o Admin can add product subcategory details Like (Product price, product image, Product model, product Ram) data should store in Product_sub_cat table o Admin can get product name as foreign key from product_mst table in product_sub_category_details page Admin can view, update and delete all registered details of product manager can search product on search bar and get all details about product  \n",
    " "
   ]
  },
  {
   "cell_type": "code",
   "execution_count": null,
   "id": "757978ec",
   "metadata": {},
   "outputs": [],
   "source": [
    "#"
   ]
  },
  {
   "cell_type": "code",
   "execution_count": null,
   "id": "3541a863",
   "metadata": {},
   "outputs": [],
   "source": [
    "#"
   ]
  }
 ],
 "metadata": {
  "kernelspec": {
   "display_name": "Python 3 (ipykernel)",
   "language": "python",
   "name": "python3"
  },
  "language_info": {
   "codemirror_mode": {
    "name": "ipython",
    "version": 3
   },
   "file_extension": ".py",
   "mimetype": "text/x-python",
   "name": "python",
   "nbconvert_exporter": "python",
   "pygments_lexer": "ipython3",
   "version": "3.9.12"
  }
 },
 "nbformat": 4,
 "nbformat_minor": 5
}
