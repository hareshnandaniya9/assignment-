{
 "cells": [
  {
   "cell_type": "code",
   "execution_count": null,
   "id": "ccc9bb15",
   "metadata": {},
   "outputs": [],
   "source": [
    "#-----------------------------------------------------module-6-----------------------------------------------------------------#"
   ]
  },
  {
   "cell_type": "code",
   "execution_count": null,
   "id": "9cd3d20d",
   "metadata": {},
   "outputs": [],
   "source": [
    "# Create Django REST API using below instruction. \n",
    "\n",
    "# Create Book Model \n",
    "'''\n",
    "1).Title   \n",
    "2).Author\n",
    "3).Isbn \n",
    "4).Publisher\n",
    "5).Using Serialize, display all data in REST API\n",
    "6).Also Using REST API, perfume CRUD Operation.\n",
    "\n",
    "'''"
   ]
  }
 ],
 "metadata": {
  "kernelspec": {
   "display_name": "Python 3 (ipykernel)",
   "language": "python",
   "name": "python3"
  },
  "language_info": {
   "codemirror_mode": {
    "name": "ipython",
    "version": 3
   },
   "file_extension": ".py",
   "mimetype": "text/x-python",
   "name": "python",
   "nbconvert_exporter": "python",
   "pygments_lexer": "ipython3",
   "version": "3.9.12"
  }
 },
 "nbformat": 4,
 "nbformat_minor": 5
}
