{
 "cells": [
  {
   "cell_type": "code",
   "execution_count": null,
   "id": "03d48e8f",
   "metadata": {},
   "outputs": [],
   "source": [
    "#--------------------------------------------------------Module – 3------------------------------------------------------------#"
   ]
  },
  {
   "cell_type": "code",
   "execution_count": 1,
   "id": "071eac67",
   "metadata": {},
   "outputs": [
    {
     "name": "stdout",
     "output_type": "stream",
     "text": [
      "['v', 4, 3, 2, 1, 'haresh']\n"
     ]
    }
   ],
   "source": [
    "#What is List? How will you reverse a list? \n",
    "'''a list in data stucture in python that is a mutable, or changable,order sequence of elements,\n",
    "     each element and value inside the list that called items.\n",
    "     list consider square brecket[]'''\n",
    "\n",
    "l1=[\"haresh\",1,2,3,4,'v']\n",
    "l1.reverse()\n",
    "print(l1)"
   ]
  },
  {
   "cell_type": "code",
   "execution_count": 12,
   "id": "f1206fc1",
   "metadata": {},
   "outputs": [
    {
     "name": "stdout",
     "output_type": "stream",
     "text": [
      "[2, 33, 222, 14]\n"
     ]
    }
   ],
   "source": [
    "#How will you remove last object from a list?  Suppose list1 is [2, 33, 222, 14, and 25], what is list1 [-1]\n",
    "list1=[2, 33, 222, 14, 25]\n",
    "#list1.remove(25)\n",
    "#list1.pop()\n",
    "#list1.pop(-1)\n",
    "#list1.pop(4)\n",
    "del list1[-1]\n",
    "print(list1)\n",
    "# five method any element remove"
   ]
  },
  {
   "cell_type": "code",
   "execution_count": null,
   "id": "2053e139",
   "metadata": {},
   "outputs": [],
   "source": [
    "#Differentiate between append () and extend () methods?   "
   ]
  },
  {
   "cell_type": "code",
   "execution_count": 15,
   "id": "3a98b83e",
   "metadata": {},
   "outputs": [
    {
     "name": "stdout",
     "output_type": "stream",
     "text": [
      "79\n",
      "21\n",
      "481\n"
     ]
    }
   ],
   "source": [
    "#Write a Python function to get the largest number, smallest num and sum of all from a list\n",
    "l1=[43,21,45,56,76,79,34,31,43,53,]\n",
    "print(max(l1))\n",
    "print(min(l1))\n",
    "print(sum(l1))"
   ]
  },
  {
   "cell_type": "code",
   "execution_count": null,
   "id": "d1ee791f",
   "metadata": {},
   "outputs": [],
   "source": [
    "#How will you compare two lists? \n"
   ]
  },
  {
   "cell_type": "code",
   "execution_count": 21,
   "id": "d31541a8",
   "metadata": {},
   "outputs": [
    {
     "name": "stdout",
     "output_type": "stream",
     "text": [
      "3\n"
     ]
    }
   ],
   "source": [
    "'''Write a Python program to count the number of strings where the string length is 2 or more and \n",
    "         the first and last character are same from a given list of strings'''\n",
    "list1=['haresh','abc','dba','asda','vh7881hv']\n",
    "cout=0\n",
    "for i in list1:\n",
    "    if len(i)>1 and i[0]==i[-1]:#count the how many str in list  first and last later are same\n",
    "        cout+=1\n",
    "print(cout)                     "
   ]
  },
  {
   "cell_type": "code",
   "execution_count": 32,
   "id": "ffb227e5",
   "metadata": {},
   "outputs": [
    {
     "name": "stdout",
     "output_type": "stream",
     "text": [
      "[1, 2, 3, 4, 5, 6, 7, 8, 9]\n"
     ]
    },
    {
     "data": {
      "text/plain": [
       "'\\nui=[]\\n\\nfor i in a:\\n    if i not in dup:\\n        ui.append(i)\\n        dup.add(i)\\nprint(dup)\\nprint(ui)\\n'"
      ]
     },
     "execution_count": 32,
     "metadata": {},
     "output_type": "execute_result"
    }
   ],
   "source": [
    "#Write a Python program to remove duplicates from a list. \n",
    "a=[1,2,3,3,4,5,6,3,4,2,6,7,8,9]\n",
    "dup=set(a)\n",
    "a=list(dup)\n",
    "print(a)\n",
    "\n",
    "\n",
    "\n",
    "'''\n",
    "dup=set()\n",
    "ui=[]\n",
    "\n",
    "for i in a:\n",
    "    if i not in dup:\n",
    "        ui.append(i)\n",
    "        dup.add(i)\n",
    "print(dup)\n",
    "print(ui)\n",
    "'''"
   ]
  },
  {
   "cell_type": "code",
   "execution_count": 34,
   "id": "01de08ef",
   "metadata": {},
   "outputs": [
    {
     "name": "stdout",
     "output_type": "stream",
     "text": [
      "list is empty\n"
     ]
    }
   ],
   "source": [
    "#Write a Python program to check a list is empty or not\n",
    "list1=[\"haesh\",1,2,'v']\n",
    "list2=[]\n",
    "\n",
    "if len(list2)==0:\n",
    "    print(\"list is empty\")\n",
    "else:\n",
    "    print(\"list is not empty\")\n"
   ]
  },
  {
   "cell_type": "code",
   "execution_count": 45,
   "id": "863b5ce7",
   "metadata": {},
   "outputs": [
    {
     "name": "stdout",
     "output_type": "stream",
     "text": [
      "False\n"
     ]
    }
   ],
   "source": [
    " #Write a Python function that takes two lists and returns true if they have at least one common member. \n",
    "a=[1,2,3,'v',4,5]\n",
    "b=[9,8,7,'h',6]\n",
    "result='False'\n",
    "for i in a:\n",
    "    for j in b:\n",
    "        if(i==j):\n",
    "            result=\"true\"\n",
    "print(result)\n",
    "        \n",
    "    \n",
    "    "
   ]
  },
  {
   "cell_type": "code",
   "execution_count": 53,
   "id": "48619f90",
   "metadata": {},
   "outputs": [
    {
     "name": "stdout",
     "output_type": "stream",
     "text": [
      "[1, 4, 9, 16, 25]\n"
     ]
    }
   ],
   "source": [
    "'''Write a Python program to generate and print a list of first and last 5 elements \n",
    "           where the values are square of numbers between 1 and 30. '''\n",
    "l1=[]\n",
    "for i in range(1,30):\n",
    "    l1.append(i**2)\n",
    "print(l1[0:5])\n",
    "\n",
    "l1=[1,2,3,4,5,6,7]\n",
    "for i in l1:\n",
    "    i[0:5]="
   ]
  },
  {
   "cell_type": "code",
   "execution_count": 55,
   "id": "a8d23674",
   "metadata": {},
   "outputs": [
    {
     "name": "stdout",
     "output_type": "stream",
     "text": [
      "[1, 2, 3, 4, 5, 6, 7]\n"
     ]
    }
   ],
   "source": [
    "#Write a Python function that takes a list and returns a new list with unique elements of the first list. \n",
    "l1=[1,2,3,4,5,6,7,1,2,3,4]\n",
    "l2=[]\n",
    "for i in l1:\n",
    "    if i not in l2:\n",
    "        l2.append(i)\n",
    "print(l2)"
   ]
  },
  {
   "cell_type": "code",
   "execution_count": 60,
   "id": "595117b1",
   "metadata": {},
   "outputs": [
    {
     "name": "stdout",
     "output_type": "stream",
     "text": [
      "['h', 'a', 'r', 'e', 's', 'h']\n",
      "haresh\n"
     ]
    }
   ],
   "source": [
    "#Write a Python program to convert a list of characters into a string. \n",
    "str1=\"haresh\"\n",
    "l1=list(str1)\n",
    "print(l1)\n",
    "new=''\n",
    "for i in l1:\n",
    "    new=new+i\n",
    "    \n",
    "print(new)"
   ]
  },
  {
   "cell_type": "code",
   "execution_count": 66,
   "id": "6f449cf7",
   "metadata": {},
   "outputs": [
    {
     "name": "stdout",
     "output_type": "stream",
     "text": [
      "a\n"
     ]
    }
   ],
   "source": [
    "#Write a Python program to select an item randomly from a list. \n",
    "import random\n",
    "list1=[1,2,3,4,'a','b',5]\n",
    "print(random.choice(list1))\n"
   ]
  },
  {
   "cell_type": "code",
   "execution_count": 78,
   "id": "72354865",
   "metadata": {},
   "outputs": [
    {
     "name": "stdout",
     "output_type": "stream",
     "text": [
      "[8, 9, 10, 11, 12, 13, 17]\n",
      "9\n",
      "13\n"
     ]
    }
   ],
   "source": [
    "#Write a Python program to find the second smallest number in a list. \n",
    "l1=[12,13,11,10,9,17,8]\n",
    "l1.sort()\n",
    "print(l1)\n",
    "print(l1[1])\n",
    "print(l1[-2])"
   ]
  },
  {
   "cell_type": "code",
   "execution_count": 82,
   "id": "81710980",
   "metadata": {},
   "outputs": [
    {
     "name": "stdout",
     "output_type": "stream",
     "text": [
      "[1, 2, 3, 4]\n"
     ]
    }
   ],
   "source": [
    "#Write a Python program to get unique values from a list  \n",
    "l1=[1,1,2,2,3,3,4,4]\n",
    "l2=[]\n",
    "for i in l1:\n",
    "    if i not in l2:\n",
    "        l2.append(i)\n",
    "print(l2)"
   ]
  },
  {
   "cell_type": "code",
   "execution_count": null,
   "id": "134836d5",
   "metadata": {},
   "outputs": [],
   "source": [
    "#Write a Python program to check whether a list contains a sub list "
   ]
  },
  {
   "cell_type": "code",
   "execution_count": 83,
   "id": "188fa4f8",
   "metadata": {},
   "outputs": [
    {
     "name": "stdout",
     "output_type": "stream",
     "text": [
      "('h', 12, 2)\n"
     ]
    }
   ],
   "source": [
    "#Write a Python program to split a list into different variables. \n",
    "l1=[('h',12,2),('v',2,3,4)]\n",
    "val1,val2=l1\n",
    "print(val1)"
   ]
  },
  {
   "cell_type": "code",
   "execution_count": null,
   "id": "bb12e70a",
   "metadata": {},
   "outputs": [],
   "source": [
    "#Write a Python program to create a tuple with different data types\n",
    "tup1=(1,2,3,'false',105,4,5)\n",
    "tup2=('a','b','c')\n",
    "tup3=(1,2,3,4,5,'a','b','c')"
   ]
  },
  {
   "cell_type": "code",
   "execution_count": 85,
   "id": "82878fce",
   "metadata": {},
   "outputs": [
    {
     "name": "stdout",
     "output_type": "stream",
     "text": [
      "(1, 2, 3, 4, 5, 6)\n",
      "(5,)\n"
     ]
    }
   ],
   "source": [
    "#Write a Python program to create a tuple with numbers.  \n",
    "tup1=1,2,3,4,5,6,\n",
    "print(tup1)\n",
    "tup2=5,\n",
    "print(tup2)"
   ]
  },
  {
   "cell_type": "code",
   "execution_count": 88,
   "id": "60c466ef",
   "metadata": {},
   "outputs": [
    {
     "name": "stdout",
     "output_type": "stream",
     "text": [
      "<class 'str'>\n",
      "abc\n"
     ]
    }
   ],
   "source": [
    "#Write a Python program to convert a tuple to a string\n",
    "tup1=(1,2,3,4,5,6,7)\n",
    "str1=str(tup1)\n",
    "print(type(str1))\n",
    "\n",
    "tup2=('a','b','c')\n",
    "str1=\"\"\n",
    "for i in tup2:\n",
    "    if i not in str1:\n",
    "        str1=str1+i\n",
    "print(str1)\n"
   ]
  },
  {
   "cell_type": "code",
   "execution_count": 92,
   "id": "51f4ae2d",
   "metadata": {},
   "outputs": [
    {
     "name": "stdout",
     "output_type": "stream",
     "text": [
      "False\n",
      "True\n",
      "True\n",
      "False\n"
     ]
    }
   ],
   "source": [
    "#Write a Python program to check whether an element exists within a tuple\n",
    "tup1=(1,2,3,4,5,'a','b','c')\n",
    "print(a in tup1)\n",
    "print('a' in tup1)\n",
    "print(3 in tup1)\n",
    "print(17 in tup1)"
   ]
  },
  {
   "cell_type": "code",
   "execution_count": 93,
   "id": "d021c904",
   "metadata": {},
   "outputs": [
    {
     "name": "stdout",
     "output_type": "stream",
     "text": [
      "8\n"
     ]
    }
   ],
   "source": [
    "#Write a Python program to find the length of a tuple\n",
    "tup1=(1,2,3,4,5,'a','b','c')\n",
    "length=len(tup1)\n",
    "print(length)"
   ]
  },
  {
   "cell_type": "code",
   "execution_count": 99,
   "id": "a5a9b19b",
   "metadata": {},
   "outputs": [
    {
     "name": "stdout",
     "output_type": "stream",
     "text": [
      "('a', 1, 2, 3, 4)\n",
      "['a', 1, 2, 3, 4]\n"
     ]
    }
   ],
   "source": [
    "#Write a Python program to convert a list to a tuple\n",
    "l1=['a',1,2,3,4]\n",
    "tup1=tuple(l1)\n",
    "print(tup1)\n",
    "l1=list(tup1)\n",
    "print(l1)"
   ]
  },
  {
   "cell_type": "code",
   "execution_count": 100,
   "id": "f265c075",
   "metadata": {},
   "outputs": [
    {
     "name": "stdout",
     "output_type": "stream",
     "text": [
      "(9, 8, 7, 6, 5, 4, 3, 2, 1)\n"
     ]
    }
   ],
   "source": [
    "#Write a Python program to reverse a tuple\n",
    "tup1=(1,2,3,4,5,6,7,8,9)\n",
    "print(tup1[::-1])"
   ]
  },
  {
   "cell_type": "code",
   "execution_count": 115,
   "id": "d833c041",
   "metadata": {},
   "outputs": [
    {
     "name": "stdout",
     "output_type": "stream",
     "text": [
      "[(1, 2, 3, 101), (5, 6, 7, 101), (9, 'a', 1, 101)]\n"
     ]
    }
   ],
   "source": [
    "#Write a Python program to replace last value of tuples in a list. \n",
    "l=[(1,2,3,4),(5,6,7,8),(9,'a',1,2)]\n",
    "\n",
    "print([a[:-1]+(101,) for a in l])\n",
    "\n"
   ]
  },
  {
   "cell_type": "code",
   "execution_count": 120,
   "id": "891b3168",
   "metadata": {},
   "outputs": [
    {
     "name": "stdout",
     "output_type": "stream",
     "text": [
      "{1: 2, 2: 2, 3: 1, 4: 1, 5: 1, 6: 1, 7: 1, 8: 1, 9: 1, 'a': 1}\n",
      "2\n"
     ]
    }
   ],
   "source": [
    "#Write a Python program to find the repeated items of a tuple\n",
    "t=(1,2,3,4,5,6,7,8,9,'a',1,2)\n",
    "dict1={}\n",
    "\n",
    "for i in t:\n",
    "    keys=dict1.keys()\n",
    "    if i in keys:\n",
    "        dict1[i]+=1\n",
    "    else:\n",
    "        dict1[i]=1\n",
    "print(dict1)\n",
    "\n",
    "print(t.count(1))"
   ]
  },
  {
   "cell_type": "code",
   "execution_count": 127,
   "id": "30a0ba24",
   "metadata": {},
   "outputs": [
    {
     "name": "stdout",
     "output_type": "stream",
     "text": [
      "['a', (1, 2, 3)]\n"
     ]
    }
   ],
   "source": [
    "#Write a Python program to remove an empty tuple(s) from a list of tuples\n",
    "t=[(),( ),( ),('a'),(1,2,3)]\n",
    "\n",
    "l=[t for t in l if t]\n",
    "print(l)\n",
    "\n"
   ]
  },
  {
   "cell_type": "code",
   "execution_count": 128,
   "id": "708ef5e4",
   "metadata": {},
   "outputs": [
    {
     "name": "stdout",
     "output_type": "stream",
     "text": [
      "[(1, 4, 7), (2, 5, 8), (3, 6, 9)]\n"
     ]
    }
   ],
   "source": [
    "#Write a Python program to unzip a list of tuples into individual lists\n",
    "l=[(1,2,3),(4,5,6),(7,8,9)]\n",
    "print(list(zip(*l)))"
   ]
  },
  {
   "cell_type": "code",
   "execution_count": 133,
   "id": "f11d7cbc",
   "metadata": {},
   "outputs": [
    {
     "name": "stdout",
     "output_type": "stream",
     "text": [
      "{'haresh': [100], 'ram': [93]}\n"
     ]
    }
   ],
   "source": [
    "#Write a Python program to convert a list of tuples into a dictionary\n",
    "list1=[(\"haresh\",100),(\"ram\",93)]\n",
    "dict1={}\n",
    "for a ,b in list1:\n",
    "    dict1.setdefault(a,[]).append(b)\n",
    "print(dict1)"
   ]
  },
  {
   "cell_type": "code",
   "execution_count": 3,
   "id": "26448b7e",
   "metadata": {},
   "outputs": [
    {
     "name": "stdout",
     "output_type": "stream",
     "text": [
      "((11, 'haresh'), (12, 'ram'), (13, 'vh'))\n",
      "\n",
      "{11: 'haresh', 12: 'ram', 13: 'vh'}\n"
     ]
    }
   ],
   "source": [
    "#How will you create a dictionary using tuples in python? \n",
    "\n",
    "tup=((11,\"haresh\"),(12,\"ram\"),(13,\"vh\"))\n",
    "print(tup)\n",
    "print()\n",
    "dct=dict((y,x) for y,x in tup)\n",
    "print(dct)"
   ]
  },
  {
   "cell_type": "code",
   "execution_count": 7,
   "id": "7211e6c9",
   "metadata": {},
   "outputs": [
    {
     "name": "stdout",
     "output_type": "stream",
     "text": [
      "original dict: {1: 2, 3: 4, 4: 3, 2: 1, 0: 0}\n",
      "sort: [(0, 0), (2, 1), (1, 2), (4, 3), (3, 4)]\n",
      "deesendind: {3: 4, 4: 3, 1: 2, 2: 1, 0: 0}\n"
     ]
    }
   ],
   "source": [
    "#Write a Python script to sort (ascending and descending) a dictionary by value. \n",
    "import operator\n",
    "d={1:2,3:4,4:3,2:1,0:0}\n",
    "print(\"original dict:\",d)\n",
    "asc=sorted(d.items(), key=operator.itemgetter(1))\n",
    "print(\"sort:\",asc)\n",
    "dese=dict(sorted(d.items(),key=operator.itemgetter(1),reverse=True))\n",
    "print(\"deesendind:\",dese)"
   ]
  },
  {
   "cell_type": "code",
   "execution_count": 9,
   "id": "aaf93e8b",
   "metadata": {},
   "outputs": [
    {
     "name": "stdout",
     "output_type": "stream",
     "text": [
      "{1: 10, 2: 20, 3: 30, 4: 40, 5: 50, 6: 60}\n"
     ]
    }
   ],
   "source": [
    "#Write a Python script to concatenate following dictionaries to create a new one. \n",
    "dict1={1:10,2:20}\n",
    "dict2={3:30,4:40}\n",
    "dict3={5:50,6:60}\n",
    "dict4={}\n",
    "for d in (dict1,dict2,dict3):\n",
    "    dict4.update(d)\n",
    "print(dict4)"
   ]
  },
  {
   "cell_type": "code",
   "execution_count": 14,
   "id": "af9f05c9",
   "metadata": {},
   "outputs": [
    {
     "name": "stdout",
     "output_type": "stream",
     "text": [
      "yes\n"
     ]
    }
   ],
   "source": [
    "#Write a Python script to check if a given key already exists in a dictionary. \n",
    "d={1:2,3:4,4:3,0:6}\n",
    "x=0\n",
    "if x in d:\n",
    "    print(\"yes\")\n",
    "else:\n",
    "    print(\"no\")"
   ]
  },
  {
   "cell_type": "code",
   "execution_count": null,
   "id": "ccf18d1f",
   "metadata": {},
   "outputs": [],
   "source": [
    "#How Do You Traverse Through A Dictionary Object In Python? \n"
   ]
  },
  {
   "cell_type": "code",
   "execution_count": 17,
   "id": "8b72fd30",
   "metadata": {},
   "outputs": [
    {
     "name": "stdout",
     "output_type": "stream",
     "text": [
      "not present\n"
     ]
    }
   ],
   "source": [
    "#How Do You Check The Presence Of A Key In A Dictionary?\n",
    "dic={'a':100,'b':200,'c':300,'a':400}\n",
    "\n",
    "if dic.get('e')==None:\n",
    "    print(\"not present\")\n",
    "else:\n",
    "    print(\"present\")"
   ]
  },
  {
   "cell_type": "code",
   "execution_count": 19,
   "id": "0405890d",
   "metadata": {},
   "outputs": [
    {
     "name": "stdout",
     "output_type": "stream",
     "text": [
      "{1: 1, 2: 4, 3: 9, 4: 16, 5: 25, 6: 36, 7: 49, 8: 64, 9: 81, 10: 100, 11: 121, 12: 144, 13: 169, 14: 196, 15: 225}\n"
     ]
    }
   ],
   "source": [
    "#Write a Python script to print a dictionary where the keys are numbers between 1 and 15. \n",
    "\n",
    "d=dict()\n",
    "for x in range(1,16):\n",
    "    d[x]=x**2\n",
    "print(d)"
   ]
  },
  {
   "cell_type": "code",
   "execution_count": 24,
   "id": "8e3393c6",
   "metadata": {},
   "outputs": [
    {
     "name": "stdout",
     "output_type": "stream",
     "text": [
      "False\n",
      "False\n",
      "False\n"
     ]
    }
   ],
   "source": [
    "#Write a Python program to check multiple keys exists in a dictionary \n",
    "dic={'a':100,'b':200,'c':300,'a':400}\n",
    "print(d.keys() >={100,200})\n",
    "print(d.keys() >={'e','b'})\n",
    "print(d.keys() >={'c','a'})"
   ]
  },
  {
   "cell_type": "code",
   "execution_count": 25,
   "id": "7d9eedc9",
   "metadata": {},
   "outputs": [
    {
     "name": "stdout",
     "output_type": "stream",
     "text": [
      "{'a': 400, 'b': 200, 'c': 300}\n"
     ]
    }
   ],
   "source": [
    "#Write a Python script to merge two Python dictionaries \n",
    "d1={'a':100,'b':200}\n",
    "d2={'c':300,'a':400}\n",
    "d=d1.copy()\n",
    "d.update(d2)\n",
    "print(d)#douplicate value not consider"
   ]
  },
  {
   "cell_type": "code",
   "execution_count": 27,
   "id": "43bab447",
   "metadata": {},
   "outputs": [
    {
     "name": "stdout",
     "output_type": "stream",
     "text": [
      "{100: 'red', 200: 'orange', 300: 'yellow', 400: 'green'}\n"
     ]
    }
   ],
   "source": [
    "#Write a Python program to map two lists into a dictionary \n",
    "key=['red','orange','yellow','green']\n",
    "value=[100,200,300,400]\n",
    "color=dict(zip(value,key))\n",
    "print(color)"
   ]
  },
  {
   "cell_type": "code",
   "execution_count": 32,
   "id": "d8e22bc7",
   "metadata": {},
   "outputs": [
    {
     "name": "stdout",
     "output_type": "stream",
     "text": [
      "{'a': 500, 'b': 400}\n"
     ]
    }
   ],
   "source": [
    "#Write a Python program to combine two dictionary adding values for common keys. \n",
    "d1 = {'a': 100, 'b': 200, 'c':300} \n",
    "d2 = {'a': 300, 'b': 200, 'd':400} \n",
    "d3={}\n",
    "for x,y in d1.items():\n",
    "    for x1,y1 in d2.items():\n",
    "        if x==x1:\n",
    "            d3[x]=(y+y1)\n",
    "print(d3)\n"
   ]
  },
  {
   "cell_type": "code",
   "execution_count": 35,
   "id": "e0fe076c",
   "metadata": {},
   "outputs": [
    {
     "name": "stdout",
     "output_type": "stream",
     "text": [
      "original list: [{'v': 's001'}, {'v': 's002'}, {'vi': 's001'}, {'vi': 's005'}, {'s009', 'v'}, {'vii': 's005'}, {'viii': 's007'}]\n"
     ]
    },
    {
     "ename": "AttributeError",
     "evalue": "'set' object has no attribute 'values'",
     "output_type": "error",
     "traceback": [
      "\u001b[1;31m---------------------------------------------------------------------------\u001b[0m",
      "\u001b[1;31mAttributeError\u001b[0m                            Traceback (most recent call last)",
      "Input \u001b[1;32mIn [35]\u001b[0m, in \u001b[0;36m<cell line: 5>\u001b[1;34m()\u001b[0m\n\u001b[0;32m      3\u001b[0m l\u001b[38;5;241m=\u001b[39m[{\u001b[38;5;124m\"\u001b[39m\u001b[38;5;124mv\u001b[39m\u001b[38;5;124m\"\u001b[39m:\u001b[38;5;124m\"\u001b[39m\u001b[38;5;124ms001\u001b[39m\u001b[38;5;124m\"\u001b[39m},{\u001b[38;5;124m\"\u001b[39m\u001b[38;5;124mv\u001b[39m\u001b[38;5;124m\"\u001b[39m:\u001b[38;5;124m\"\u001b[39m\u001b[38;5;124ms002\u001b[39m\u001b[38;5;124m\"\u001b[39m},{\u001b[38;5;124m\"\u001b[39m\u001b[38;5;124mvi\u001b[39m\u001b[38;5;124m\"\u001b[39m:\u001b[38;5;124m\"\u001b[39m\u001b[38;5;124ms001\u001b[39m\u001b[38;5;124m\"\u001b[39m},{\u001b[38;5;124m\"\u001b[39m\u001b[38;5;124mvi\u001b[39m\u001b[38;5;124m\"\u001b[39m:\u001b[38;5;124m\"\u001b[39m\u001b[38;5;124ms005\u001b[39m\u001b[38;5;124m\"\u001b[39m},{\u001b[38;5;124m\"\u001b[39m\u001b[38;5;124mv\u001b[39m\u001b[38;5;124m\"\u001b[39m,\u001b[38;5;124m\"\u001b[39m\u001b[38;5;124ms009\u001b[39m\u001b[38;5;124m\"\u001b[39m},{\u001b[38;5;124m\"\u001b[39m\u001b[38;5;124mvii\u001b[39m\u001b[38;5;124m\"\u001b[39m:\u001b[38;5;124m\"\u001b[39m\u001b[38;5;124ms005\u001b[39m\u001b[38;5;124m\"\u001b[39m},{\u001b[38;5;124m\"\u001b[39m\u001b[38;5;124mviii\u001b[39m\u001b[38;5;124m\"\u001b[39m:\u001b[38;5;124m\"\u001b[39m\u001b[38;5;124ms007\u001b[39m\u001b[38;5;124m\"\u001b[39m}]\n\u001b[0;32m      4\u001b[0m \u001b[38;5;28mprint\u001b[39m(\u001b[38;5;124m\"\u001b[39m\u001b[38;5;124moriginal list:\u001b[39m\u001b[38;5;124m\"\u001b[39m,l)\n\u001b[1;32m----> 5\u001b[0m dval\u001b[38;5;241m=\u001b[39m\u001b[38;5;28;43mset\u001b[39;49m\u001b[43m(\u001b[49m\u001b[43mval\u001b[49m\u001b[43m \u001b[49m\u001b[38;5;28;43;01mfor\u001b[39;49;00m\u001b[43m \u001b[49m\u001b[38;5;28;43mdict\u001b[39;49m\u001b[43m \u001b[49m\u001b[38;5;129;43;01min\u001b[39;49;00m\u001b[43m \u001b[49m\u001b[43ml\u001b[49m\u001b[43m \u001b[49m\u001b[38;5;28;43;01mfor\u001b[39;49;00m\u001b[43m \u001b[49m\u001b[43mval\u001b[49m\u001b[43m \u001b[49m\u001b[38;5;129;43;01min\u001b[39;49;00m\u001b[43m \u001b[49m\u001b[38;5;28;43mdict\u001b[39;49m\u001b[38;5;241;43m.\u001b[39;49m\u001b[43mvalues\u001b[49m\u001b[43m(\u001b[49m\u001b[43m)\u001b[49m\u001b[43m)\u001b[49m\n\u001b[0;32m      6\u001b[0m \u001b[38;5;28mprint\u001b[39m(dval)\n",
      "Input \u001b[1;32mIn [35]\u001b[0m, in \u001b[0;36m<genexpr>\u001b[1;34m(.0)\u001b[0m\n\u001b[0;32m      3\u001b[0m l\u001b[38;5;241m=\u001b[39m[{\u001b[38;5;124m\"\u001b[39m\u001b[38;5;124mv\u001b[39m\u001b[38;5;124m\"\u001b[39m:\u001b[38;5;124m\"\u001b[39m\u001b[38;5;124ms001\u001b[39m\u001b[38;5;124m\"\u001b[39m},{\u001b[38;5;124m\"\u001b[39m\u001b[38;5;124mv\u001b[39m\u001b[38;5;124m\"\u001b[39m:\u001b[38;5;124m\"\u001b[39m\u001b[38;5;124ms002\u001b[39m\u001b[38;5;124m\"\u001b[39m},{\u001b[38;5;124m\"\u001b[39m\u001b[38;5;124mvi\u001b[39m\u001b[38;5;124m\"\u001b[39m:\u001b[38;5;124m\"\u001b[39m\u001b[38;5;124ms001\u001b[39m\u001b[38;5;124m\"\u001b[39m},{\u001b[38;5;124m\"\u001b[39m\u001b[38;5;124mvi\u001b[39m\u001b[38;5;124m\"\u001b[39m:\u001b[38;5;124m\"\u001b[39m\u001b[38;5;124ms005\u001b[39m\u001b[38;5;124m\"\u001b[39m},{\u001b[38;5;124m\"\u001b[39m\u001b[38;5;124mv\u001b[39m\u001b[38;5;124m\"\u001b[39m,\u001b[38;5;124m\"\u001b[39m\u001b[38;5;124ms009\u001b[39m\u001b[38;5;124m\"\u001b[39m},{\u001b[38;5;124m\"\u001b[39m\u001b[38;5;124mvii\u001b[39m\u001b[38;5;124m\"\u001b[39m:\u001b[38;5;124m\"\u001b[39m\u001b[38;5;124ms005\u001b[39m\u001b[38;5;124m\"\u001b[39m},{\u001b[38;5;124m\"\u001b[39m\u001b[38;5;124mviii\u001b[39m\u001b[38;5;124m\"\u001b[39m:\u001b[38;5;124m\"\u001b[39m\u001b[38;5;124ms007\u001b[39m\u001b[38;5;124m\"\u001b[39m}]\n\u001b[0;32m      4\u001b[0m \u001b[38;5;28mprint\u001b[39m(\u001b[38;5;124m\"\u001b[39m\u001b[38;5;124moriginal list:\u001b[39m\u001b[38;5;124m\"\u001b[39m,l)\n\u001b[1;32m----> 5\u001b[0m dval\u001b[38;5;241m=\u001b[39m\u001b[38;5;28mset\u001b[39m(val \u001b[38;5;28;01mfor\u001b[39;00m \u001b[38;5;28mdict\u001b[39m \u001b[38;5;129;01min\u001b[39;00m l \u001b[38;5;28;01mfor\u001b[39;00m val \u001b[38;5;129;01min\u001b[39;00m \u001b[38;5;28;43mdict\u001b[39;49m\u001b[38;5;241;43m.\u001b[39;49m\u001b[43mvalues\u001b[49m())\n\u001b[0;32m      6\u001b[0m \u001b[38;5;28mprint\u001b[39m(dval)\n",
      "\u001b[1;31mAttributeError\u001b[0m: 'set' object has no attribute 'values'"
     ]
    }
   ],
   "source": [
    "#Write a Python program to print all unique values in a dictionary.   \n",
    "\n",
    "l=[{\"v\":\"s001\"},{\"v\":\"s002\"},{\"vi\":\"s001\"},{\"vi\":\"s005\"},{\"v\",\"s009\"},{\"vii\":\"s005\"},{\"viii\":\"s007\"}]\n",
    "print(\"original list:\",l)\n",
    "dval=set(val for dict in l for val in dict.values())\n",
    "print(dval)"
   ]
  },
  {
   "cell_type": "code",
   "execution_count": null,
   "id": "4e808280",
   "metadata": {},
   "outputs": [],
   "source": [
    "#Why Do You Use the Zip () Method in Python? "
   ]
  },
  {
   "cell_type": "code",
   "execution_count": null,
   "id": "7f39743c",
   "metadata": {},
   "outputs": [],
   "source": [
    "#Write a Python program to create and display all combinations of letters, selecting each letter from a different key in a dictionary.\n"
   ]
  },
  {
   "cell_type": "code",
   "execution_count": 36,
   "id": "54f1e84a",
   "metadata": {},
   "outputs": [
    {
     "name": "stdout",
     "output_type": "stream",
     "text": [
      "h  :  93\n",
      "c  :  75\n",
      "f  :  70\n"
     ]
    }
   ],
   "source": [
    "#Write a Python program to find the highest 3 values in a dictionary \n",
    "dtc={'a':60,'b':45,'c':75,'d':20,'e':35,'f':70,'g':10,'h':93}\n",
    "x=list(dtc.values())\n",
    "d=dict()\n",
    "x.sort(reverse=True)\n",
    "x=x[:3]\n",
    "for i in x:\n",
    "    for j in dtc.keys():\n",
    "        if(dtc[j]==i):\n",
    "            print(str(j)+\"  :  \"+str(dtc[j]))"
   ]
  },
  {
   "cell_type": "code",
   "execution_count": null,
   "id": "b4cd6df0",
   "metadata": {},
   "outputs": [],
   "source": [
    "#Write a Python program to combine values in python list of dictionaries. \n",
    "\n",
    "data: [{'item': 'item1', 'amount': 400}, {'item': 'item2', 'amount':  300}, {'item': 'item1', 'amount': 750}]"
   ]
  },
  {
   "cell_type": "markdown",
   "id": "2c70a69d",
   "metadata": {},
   "source": [
    " Write a Python function to calculate the factorial of a number (a nonnegative integer)\n",
    "num=input(\"enter number:\")\n",
    "fact=1\n",
    "for i in range(1,num+1):\n",
    "    fact=fact*i\n",
    "print(num,\"this number factorial is:\",fact)"
   ]
  },
  {
   "cell_type": "code",
   "execution_count": 42,
   "id": "ea7d7fca",
   "metadata": {},
   "outputs": [
    {
     "name": "stdout",
     "output_type": "stream",
     "text": [
      "enter number:4\n",
      "4 this number factorial is: 24\n"
     ]
    }
   ],
   "source": [
    "num=int(input(\"enter number:\"))\n",
    "fact=1\n",
    "for i in range(1,num+1):\n",
    "    fact=fact*i\n",
    "print(num,\"this number factorial is:\",fact)"
   ]
  },
  {
   "cell_type": "code",
   "execution_count": 47,
   "id": "9bb22ff9",
   "metadata": {},
   "outputs": [
    {
     "name": "stdout",
     "output_type": "stream",
     "text": [
      "enter number:21\n",
      "no this  21  not in a range\n"
     ]
    }
   ],
   "source": [
    "#Write a Python function to check whether a number is in a given range \n",
    "num=int(input(\"enter number:\"))\n",
    "\n",
    "if num in range(1,20):\n",
    "    print(\"yes this \",num,\" in a range\")\n",
    "else:\n",
    "    print(\"no this \",num,\" not in a range\")"
   ]
  },
  {
   "cell_type": "code",
   "execution_count": 52,
   "id": "90761afb",
   "metadata": {},
   "outputs": [
    {
     "name": "stdout",
     "output_type": "stream",
     "text": [
      "enter number:28\n"
     ]
    },
    {
     "ename": "SyntaxError",
     "evalue": "'return' outside function (2860924648.py, line 7)",
     "output_type": "error",
     "traceback": [
      "\u001b[1;36m  Input \u001b[1;32mIn [52]\u001b[1;36m\u001b[0m\n\u001b[1;33m    return sum == n\u001b[0m\n\u001b[1;37m    ^\u001b[0m\n\u001b[1;31mSyntaxError\u001b[0m\u001b[1;31m:\u001b[0m 'return' outside function\n"
     ]
    }
   ],
   "source": [
    "#Write a Python function to check whether a number is perfect or not. \n",
    "num=int(input(\"enter number:\"))\n",
    "sum=0\n",
    "for x in range(1,num):\n",
    "    if num%x==0:\n",
    "        sum += x\n",
    "    return sum == n\n",
    "print(num)"
   ]
  },
  {
   "cell_type": "code",
   "execution_count": 9,
   "id": "32102e0d",
   "metadata": {},
   "outputs": [
    {
     "name": "stdout",
     "output_type": "stream",
     "text": [
      "Enter string:252\n",
      "252\n",
      "string is 252 is palidrome\n"
     ]
    }
   ],
   "source": [
    "#Write a Python function that checks whether a passed string is palindrome or not \n",
    "str1=input(\"Enter string:\")\n",
    "str2=str1[::-1]\n",
    "print(str2)\n",
    "if str1==str2:\n",
    "    print(f\"string is {str1} is palidrome\")\n",
    "else:\n",
    "    print(f\"string is {str1} is not palidrome\")\n"
   ]
  },
  {
   "cell_type": "code",
   "execution_count": null,
   "id": "c091ee44",
   "metadata": {},
   "outputs": [],
   "source": [
    "#How Many Basic Types Of Functions Are Available In Python\n",
    "'''\n",
    "three type of function are available in python\n",
    "1.Built-in function\n",
    "2.User-Define function\n",
    "3.Anonymous function\n",
    "'''\n"
   ]
  },
  {
   "cell_type": "code",
   "execution_count": 58,
   "id": "b7d1831f",
   "metadata": {},
   "outputs": [
    {
     "name": "stdout",
     "output_type": "stream",
     "text": [
      "d\n",
      "5\n"
     ]
    }
   ],
   "source": [
    "#How can you pick a random item from a list or tuple? \n",
    "#list\n",
    "import random\n",
    "list1=['a','b','c','d','e','f','g','h']\n",
    "print(random.choice(list1))\n",
    "\n",
    "#tuple\n",
    "tup1=(0,1,2,3,4,5,6,7,8,9)\n",
    "print(random.choice(tup1))"
   ]
  },
  {
   "cell_type": "code",
   "execution_count": 41,
   "id": "ff4054b6",
   "metadata": {},
   "outputs": [
    {
     "name": "stdout",
     "output_type": "stream",
     "text": [
      "p+.Lx9=Z[fN6\n"
     ]
    }
   ],
   "source": []
  },
  {
   "cell_type": "code",
   "execution_count": 48,
   "id": "60a6a58d",
   "metadata": {},
   "outputs": [
    {
     "name": "stdout",
     "output_type": "stream",
     "text": [
      "your password is: 0Bw7P,v;\n"
     ]
    }
   ],
   "source": [
    "#password genrate\n",
    "import random\n",
    "import string\n",
    "\n",
    "length_password=8\n",
    "\n",
    "lower=string.ascii_lowercase\n",
    "upper=string.ascii_uppercase\n",
    "digit=string.digits\n",
    "pun=string.punctuation\n",
    "\n",
    "passw=lower+upper+digit+pun\n",
    "\n",
    "temp=random.sample(passw,length_password)\n",
    "pwd=''.join(temp)\n",
    "print(f\"your password is: {pwd}\")"
   ]
  },
  {
   "cell_type": "code",
   "execution_count": 96,
   "id": "3b551436",
   "metadata": {},
   "outputs": [
    {
     "name": "stdout",
     "output_type": "stream",
     "text": [
      "60\n"
     ]
    }
   ],
   "source": [
    "#How can you pick a random item from a range? \n",
    "import random\n",
    "num=random.choice(range(0,100,5))\n",
    "print(num)"
   ]
  },
  {
   "cell_type": "code",
   "execution_count": 98,
   "id": "7d3fdbe2",
   "metadata": {},
   "outputs": [
    {
     "name": "stdout",
     "output_type": "stream",
     "text": [
      "7\n"
     ]
    }
   ],
   "source": [
    "#How can you get a random number in python? \n",
    "import random\n",
    "num=random.randint(0,9)\n",
    "print(num)"
   ]
  },
  {
   "cell_type": "code",
   "execution_count": null,
   "id": "28e0f967",
   "metadata": {},
   "outputs": [],
   "source": [
    "#How will you set the starting value in generating random numbers? "
   ]
  },
  {
   "cell_type": "code",
   "execution_count": 107,
   "id": "83c21e66",
   "metadata": {},
   "outputs": [
    {
     "name": "stdout",
     "output_type": "stream",
     "text": [
      "[6, 5, 1, 2, 8, 3, 4, 9, 7]\n",
      "\n",
      "[9, 8, 4, 2, 3, 5, 6, 1, 7]\n"
     ]
    }
   ],
   "source": [
    "# How will you randomizes the items of a list in place?\n",
    "import random\n",
    "list1=[1,2,3,9,8,4,7,5,6]\n",
    "random.shuffle(list1)\n",
    "print(list1)\n",
    "print()\n",
    "random.shuffle(list1)\n",
    "print(list1)"
   ]
  },
  {
   "cell_type": "code",
   "execution_count": 111,
   "id": "e70cb95a",
   "metadata": {},
   "outputs": [
    {
     "ename": "FileNotFoundError",
     "evalue": "[Errno 2] No such file or directory: 'test.txt'",
     "output_type": "error",
     "traceback": [
      "\u001b[1;31m---------------------------------------------------------------------------\u001b[0m",
      "\u001b[1;31mFileNotFoundError\u001b[0m                         Traceback (most recent call last)",
      "Input \u001b[1;32mIn [111]\u001b[0m, in \u001b[0;36m<cell line: 6>\u001b[1;34m()\u001b[0m\n\u001b[0;32m      4\u001b[0m     lines\u001b[38;5;241m=\u001b[39m\u001b[38;5;28mopen\u001b[39m(qry)\u001b[38;5;241m.\u001b[39mread()\u001b[38;5;241m.\u001b[39msplitlines()\n\u001b[0;32m      5\u001b[0m     \u001b[38;5;28;01mreturn\u001b[39;00m random\u001b[38;5;241m.\u001b[39mchoice(lines)\n\u001b[1;32m----> 6\u001b[0m \u001b[38;5;28mprint\u001b[39m(\u001b[43mrandom_line\u001b[49m\u001b[43m(\u001b[49m\u001b[38;5;124;43m'\u001b[39;49m\u001b[38;5;124;43mtest.txt\u001b[39;49m\u001b[38;5;124;43m'\u001b[39;49m\u001b[43m)\u001b[49m)\n",
      "Input \u001b[1;32mIn [111]\u001b[0m, in \u001b[0;36mrandom_line\u001b[1;34m(qry)\u001b[0m\n\u001b[0;32m      3\u001b[0m \u001b[38;5;28;01mdef\u001b[39;00m \u001b[38;5;21mrandom_line\u001b[39m(qry):\n\u001b[1;32m----> 4\u001b[0m     lines\u001b[38;5;241m=\u001b[39m\u001b[38;5;28;43mopen\u001b[39;49m\u001b[43m(\u001b[49m\u001b[43mqry\u001b[49m\u001b[43m)\u001b[49m\u001b[38;5;241m.\u001b[39mread()\u001b[38;5;241m.\u001b[39msplitlines()\n\u001b[0;32m      5\u001b[0m     \u001b[38;5;28;01mreturn\u001b[39;00m random\u001b[38;5;241m.\u001b[39mchoice(lines)\n",
      "\u001b[1;31mFileNotFoundError\u001b[0m: [Errno 2] No such file or directory: 'test.txt'"
     ]
    }
   ],
   "source": [
    "#Write a Python program to read a random line from a file. \n",
    "import random\n",
    "def random_line(qry):\n",
    "    lines=open(qry).read().splitlines()\n",
    "    return random.choice(lines)\n",
    "print(random_line('test.txt'))"
   ]
  },
  {
   "cell_type": "code",
   "execution_count": 121,
   "id": "5bf311ad",
   "metadata": {},
   "outputs": [
    {
     "name": "stdout",
     "output_type": "stream",
     "text": [
      "Enter Degree:2\n",
      "degree: 2.0 after convert radian:0.0349\n"
     ]
    }
   ],
   "source": [
    "#Write a Python program to convert degree to radian \n",
    "degree=float(input(\"Enter Degree:\"))\n",
    "radian=degree*(3.14/180)\n",
    "print(f\"degree: {degree} after convert radian:{'%.4f' %radian}\")"
   ]
  },
  {
   "cell_type": "code",
   "execution_count": 126,
   "id": "bfc607f4",
   "metadata": {},
   "outputs": [
    {
     "name": "stdout",
     "output_type": "stream",
     "text": [
      "Enter Base a:10\n",
      "Enter Base b:20\n",
      "Enter height h:5\n",
      "base a is 10.0 , base b is 20.0 ,height is 5.0 total area of trapezoid 75.0\n"
     ]
    }
   ],
   "source": [
    "#Write a Python program to calculate the area of a trapezoid  \n",
    "a=float(input(\"Enter Base a:\"))\n",
    "b=float(input(\"Enter Base b:\"))\n",
    "h=float(input(\"Enter height h:\"))\n",
    "A=((a+b)/2)*h\n",
    "print(f\"base a is {a} , base b is {b} ,height is {h} total area of trapezoid {A}\")"
   ]
  },
  {
   "cell_type": "code",
   "execution_count": 128,
   "id": "af4072ed",
   "metadata": {},
   "outputs": [
    {
     "name": "stdout",
     "output_type": "stream",
     "text": [
      "Enter Base b:5\n",
      "Enter height h:3\n",
      "15.0\n"
     ]
    }
   ],
   "source": [
    "#Write a Python program to calculate the area of a parallelogram   \n",
    "b=float(input(\"Enter Base b:\"))\n",
    "h=float(input(\"Enter height h:\"))\n",
    "A=b*h\n",
    "print(A)"
   ]
  },
  {
   "cell_type": "code",
   "execution_count": 134,
   "id": "fd9dbf2b",
   "metadata": {},
   "outputs": [
    {
     "name": "stdout",
     "output_type": "stream",
     "text": [
      "Enter radi r:2\n",
      "Enter height h:5\n",
      "surface volume 62.80\n",
      "\n",
      "Enter radi r:2\n",
      "Enter height h:5\n",
      "Surface area of cylinder: 87.92\n"
     ]
    }
   ],
   "source": [
    "#Write a Python program to calculate surface volume and area of a cylinder \n",
    "'''\n",
    "surface volme=pir2h\n",
    "surface area of a cylinder=a=2pir2+2pirh\n",
    "'''\n",
    "#surface volume\n",
    "\n",
    "pi=3.14\n",
    "r=float(input(\"Enter radi r:\"))\n",
    "h=float(input(\"Enter height h:\"))\n",
    "\n",
    "surfacevolume=(pi*r*2*h)\n",
    "\n",
    "print(\"surface volume\",'%.2f' %surfacevolume)\n",
    "\n",
    "print()\n",
    "\n",
    "#surface area \n",
    "\n",
    "pi=3.14\n",
    "r=float(input(\"Enter radi r:\"))\n",
    "h=float(input(\"Enter height h:\"))\n",
    "A=(2*3.14*(r**2))+(2*3.14*r*h)\n",
    "\n",
    "print(\"Surface area of cylinder:\",A)"
   ]
  },
  {
   "cell_type": "code",
   "execution_count": 152,
   "id": "9d0333ba",
   "metadata": {},
   "outputs": [
    {
     "name": "stdout",
     "output_type": "stream",
     "text": [
      "Enter number:12\n",
      "[1, 2, 3, 4, 6]\n",
      "16\n"
     ]
    }
   ],
   "source": [
    "#Write a Python program to returns sum of all divisors of a number \n",
    "div=[1]\n",
    "num=int(input(\"Enter number:\"))\n",
    "\n",
    "for i in range (2,num):\n",
    "    if num%i==0:\n",
    "        div.append(i)\n",
    "print(div)      \n",
    "sum=0\n",
    "for i in range(0,len(div)):\n",
    "    sum=sum+div[i]\n",
    "print(sum)"
   ]
  },
  {
   "cell_type": "code",
   "execution_count": 154,
   "id": "786e149d",
   "metadata": {},
   "outputs": [
    {
     "name": "stdout",
     "output_type": "stream",
     "text": [
      "maximum: 67.23\n",
      "minimum: 2.1\n"
     ]
    }
   ],
   "source": [
    "#Write a Python program to find the maximum and minimum numbers from the specified decimal numbers.  \n",
    "desi=2.10,21.2,4.56,67.23\n",
    "print(\"maximum:\",max(desi))\n",
    "print(\"minimum:\",min(desi))"
   ]
  }
 ],
 "metadata": {
  "kernelspec": {
   "display_name": "Python 3 (ipykernel)",
   "language": "python",
   "name": "python3"
  },
  "language_info": {
   "codemirror_mode": {
    "name": "ipython",
    "version": 3
   },
   "file_extension": ".py",
   "mimetype": "text/x-python",
   "name": "python",
   "nbconvert_exporter": "python",
   "pygments_lexer": "ipython3",
   "version": "3.9.12"
  }
 },
 "nbformat": 4,
 "nbformat_minor": 5
}
